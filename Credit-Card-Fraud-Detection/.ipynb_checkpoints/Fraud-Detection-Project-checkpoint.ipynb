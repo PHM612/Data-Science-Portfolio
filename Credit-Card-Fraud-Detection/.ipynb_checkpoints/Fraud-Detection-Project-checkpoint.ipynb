{
 "cells": [
  {
   "cell_type": "markdown",
   "metadata": {},
   "source": [
    "# Project - Fraud Detection\n",
    "\n",
    "![](https://images.pexels.com/photos/164571/pexels-photo-164571.jpeg?auto=compress&cs=tinysrgb&dpr=2&h=650&w=940)\n",
    "\n",
    "Dataset from : https://www.kaggle.com/mlg-ulb/creditcardfraud/downloads/creditcardfraud.zip/3\n",
    "\n",
    "## Context\n",
    "\n",
    "It is important that credit card companies are able to recognize fraudulent credit card transactions so that customers are not charged for items that they did not purchase.\n",
    "\n",
    "## Data\n",
    "\n",
    "The datasets contains transactions made by credit cards in September 2013 by european cardholders. This dataset presents transactions that occurred over two days, where we have 492 frauds out of 284,807 transactions. The dataset is highly unbalanced.\n",
    "\n",
    "Most of the provided features result from a PCA transformation, due to confidentiality concerns from the data providers.\n",
    "\n",
    "The features are :\n",
    "- Time: time in second relative to the first transaction\n",
    "- V1 to V28: PCA outputs\n",
    "- Amount: the amount of the transaction\n",
    "- Class: whether the transaction is fraudulent (1) or not (0)\n",
    "\n",
    "## Metric\n",
    "\n",
    "Given the class imbalance ratio, the metric used to compute the performance of the model will be the Area Under the Precision-Recall Curve (AUPRC). "
   ]
  },
  {
   "cell_type": "markdown",
   "metadata": {},
   "source": [
    "# Imports"
   ]
  },
  {
   "cell_type": "code",
   "execution_count": 83,
   "metadata": {
    "ExecuteTime": {
     "end_time": "2019-05-19T15:21:21.138341Z",
     "start_time": "2019-05-19T15:21:21.131165Z"
    }
   },
   "outputs": [],
   "source": [
    "import pandas as pd\n",
    "import numpy as np\n",
    "\n",
    "import matplotlib.pyplot as plt\n",
    "from mpl_toolkits.mplot3d import Axes3D\n",
    "import seaborn as sns\n",
    "\n",
    "from sklearn.preprocessing import StandardScaler\n",
    "from sklearn.model_selection import train_test_split\n",
    "from sklearn.metrics import classification_report\n",
    "from sklearn.metrics import precision_recall_curve\n",
    "from sklearn.metrics import auc\n",
    "from sklearn.model_selection import GridSearchCV\n",
    "from collections import Counter\n",
    "\n",
    "from sklearn.decomposition import PCA\n",
    "from sklearn.manifold import TSNE\n",
    "from imblearn.over_sampling import SMOTE\n",
    "from imblearn.under_sampling import RandomUnderSampler\n",
    "from sklearn.neighbors import LocalOutlierFactor\n",
    "import lightgbm as lgb\n",
    "\n",
    "import os\n",
    "import warnings\n",
    "warnings.filterwarnings('ignore')\n",
    "\n",
    "\n",
    "filepath = os.path.join(\"..\", \"..\", \"data_gitignore\", \"creditcard.csv\")"
   ]
  },
  {
   "cell_type": "code",
   "execution_count": 84,
   "metadata": {
    "ExecuteTime": {
     "end_time": "2019-05-19T15:21:25.277895Z",
     "start_time": "2019-05-19T15:21:21.795191Z"
    }
   },
   "outputs": [],
   "source": [
    "credit = pd.read_csv(filepath)"
   ]
  },
  {
   "cell_type": "code",
   "execution_count": 85,
   "metadata": {
    "ExecuteTime": {
     "end_time": "2019-05-19T15:21:25.806496Z",
     "start_time": "2019-05-19T15:21:25.771828Z"
    }
   },
   "outputs": [
    {
     "data": {
      "text/html": [
       "<div>\n",
       "<style scoped>\n",
       "    .dataframe tbody tr th:only-of-type {\n",
       "        vertical-align: middle;\n",
       "    }\n",
       "\n",
       "    .dataframe tbody tr th {\n",
       "        vertical-align: top;\n",
       "    }\n",
       "\n",
       "    .dataframe thead th {\n",
       "        text-align: right;\n",
       "    }\n",
       "</style>\n",
       "<table border=\"1\" class=\"dataframe\">\n",
       "  <thead>\n",
       "    <tr style=\"text-align: right;\">\n",
       "      <th></th>\n",
       "      <th>Time</th>\n",
       "      <th>V1</th>\n",
       "      <th>V2</th>\n",
       "      <th>V3</th>\n",
       "      <th>V4</th>\n",
       "      <th>V5</th>\n",
       "      <th>V6</th>\n",
       "      <th>V7</th>\n",
       "      <th>V8</th>\n",
       "      <th>V9</th>\n",
       "      <th>...</th>\n",
       "      <th>V21</th>\n",
       "      <th>V22</th>\n",
       "      <th>V23</th>\n",
       "      <th>V24</th>\n",
       "      <th>V25</th>\n",
       "      <th>V26</th>\n",
       "      <th>V27</th>\n",
       "      <th>V28</th>\n",
       "      <th>Amount</th>\n",
       "      <th>Class</th>\n",
       "    </tr>\n",
       "  </thead>\n",
       "  <tbody>\n",
       "    <tr>\n",
       "      <th>0</th>\n",
       "      <td>0.0</td>\n",
       "      <td>-1.359807</td>\n",
       "      <td>-0.072781</td>\n",
       "      <td>2.536347</td>\n",
       "      <td>1.378155</td>\n",
       "      <td>-0.338321</td>\n",
       "      <td>0.462388</td>\n",
       "      <td>0.239599</td>\n",
       "      <td>0.098698</td>\n",
       "      <td>0.363787</td>\n",
       "      <td>...</td>\n",
       "      <td>-0.018307</td>\n",
       "      <td>0.277838</td>\n",
       "      <td>-0.110474</td>\n",
       "      <td>0.066928</td>\n",
       "      <td>0.128539</td>\n",
       "      <td>-0.189115</td>\n",
       "      <td>0.133558</td>\n",
       "      <td>-0.021053</td>\n",
       "      <td>149.62</td>\n",
       "      <td>0</td>\n",
       "    </tr>\n",
       "    <tr>\n",
       "      <th>1</th>\n",
       "      <td>0.0</td>\n",
       "      <td>1.191857</td>\n",
       "      <td>0.266151</td>\n",
       "      <td>0.166480</td>\n",
       "      <td>0.448154</td>\n",
       "      <td>0.060018</td>\n",
       "      <td>-0.082361</td>\n",
       "      <td>-0.078803</td>\n",
       "      <td>0.085102</td>\n",
       "      <td>-0.255425</td>\n",
       "      <td>...</td>\n",
       "      <td>-0.225775</td>\n",
       "      <td>-0.638672</td>\n",
       "      <td>0.101288</td>\n",
       "      <td>-0.339846</td>\n",
       "      <td>0.167170</td>\n",
       "      <td>0.125895</td>\n",
       "      <td>-0.008983</td>\n",
       "      <td>0.014724</td>\n",
       "      <td>2.69</td>\n",
       "      <td>0</td>\n",
       "    </tr>\n",
       "    <tr>\n",
       "      <th>2</th>\n",
       "      <td>1.0</td>\n",
       "      <td>-1.358354</td>\n",
       "      <td>-1.340163</td>\n",
       "      <td>1.773209</td>\n",
       "      <td>0.379780</td>\n",
       "      <td>-0.503198</td>\n",
       "      <td>1.800499</td>\n",
       "      <td>0.791461</td>\n",
       "      <td>0.247676</td>\n",
       "      <td>-1.514654</td>\n",
       "      <td>...</td>\n",
       "      <td>0.247998</td>\n",
       "      <td>0.771679</td>\n",
       "      <td>0.909412</td>\n",
       "      <td>-0.689281</td>\n",
       "      <td>-0.327642</td>\n",
       "      <td>-0.139097</td>\n",
       "      <td>-0.055353</td>\n",
       "      <td>-0.059752</td>\n",
       "      <td>378.66</td>\n",
       "      <td>0</td>\n",
       "    </tr>\n",
       "    <tr>\n",
       "      <th>3</th>\n",
       "      <td>1.0</td>\n",
       "      <td>-0.966272</td>\n",
       "      <td>-0.185226</td>\n",
       "      <td>1.792993</td>\n",
       "      <td>-0.863291</td>\n",
       "      <td>-0.010309</td>\n",
       "      <td>1.247203</td>\n",
       "      <td>0.237609</td>\n",
       "      <td>0.377436</td>\n",
       "      <td>-1.387024</td>\n",
       "      <td>...</td>\n",
       "      <td>-0.108300</td>\n",
       "      <td>0.005274</td>\n",
       "      <td>-0.190321</td>\n",
       "      <td>-1.175575</td>\n",
       "      <td>0.647376</td>\n",
       "      <td>-0.221929</td>\n",
       "      <td>0.062723</td>\n",
       "      <td>0.061458</td>\n",
       "      <td>123.50</td>\n",
       "      <td>0</td>\n",
       "    </tr>\n",
       "    <tr>\n",
       "      <th>4</th>\n",
       "      <td>2.0</td>\n",
       "      <td>-1.158233</td>\n",
       "      <td>0.877737</td>\n",
       "      <td>1.548718</td>\n",
       "      <td>0.403034</td>\n",
       "      <td>-0.407193</td>\n",
       "      <td>0.095921</td>\n",
       "      <td>0.592941</td>\n",
       "      <td>-0.270533</td>\n",
       "      <td>0.817739</td>\n",
       "      <td>...</td>\n",
       "      <td>-0.009431</td>\n",
       "      <td>0.798278</td>\n",
       "      <td>-0.137458</td>\n",
       "      <td>0.141267</td>\n",
       "      <td>-0.206010</td>\n",
       "      <td>0.502292</td>\n",
       "      <td>0.219422</td>\n",
       "      <td>0.215153</td>\n",
       "      <td>69.99</td>\n",
       "      <td>0</td>\n",
       "    </tr>\n",
       "  </tbody>\n",
       "</table>\n",
       "<p>5 rows × 31 columns</p>\n",
       "</div>"
      ],
      "text/plain": [
       "   Time        V1        V2        V3        V4        V5        V6        V7  \\\n",
       "0   0.0 -1.359807 -0.072781  2.536347  1.378155 -0.338321  0.462388  0.239599   \n",
       "1   0.0  1.191857  0.266151  0.166480  0.448154  0.060018 -0.082361 -0.078803   \n",
       "2   1.0 -1.358354 -1.340163  1.773209  0.379780 -0.503198  1.800499  0.791461   \n",
       "3   1.0 -0.966272 -0.185226  1.792993 -0.863291 -0.010309  1.247203  0.237609   \n",
       "4   2.0 -1.158233  0.877737  1.548718  0.403034 -0.407193  0.095921  0.592941   \n",
       "\n",
       "         V8        V9  ...         V21       V22       V23       V24  \\\n",
       "0  0.098698  0.363787  ...   -0.018307  0.277838 -0.110474  0.066928   \n",
       "1  0.085102 -0.255425  ...   -0.225775 -0.638672  0.101288 -0.339846   \n",
       "2  0.247676 -1.514654  ...    0.247998  0.771679  0.909412 -0.689281   \n",
       "3  0.377436 -1.387024  ...   -0.108300  0.005274 -0.190321 -1.175575   \n",
       "4 -0.270533  0.817739  ...   -0.009431  0.798278 -0.137458  0.141267   \n",
       "\n",
       "        V25       V26       V27       V28  Amount  Class  \n",
       "0  0.128539 -0.189115  0.133558 -0.021053  149.62      0  \n",
       "1  0.167170  0.125895 -0.008983  0.014724    2.69      0  \n",
       "2 -0.327642 -0.139097 -0.055353 -0.059752  378.66      0  \n",
       "3  0.647376 -0.221929  0.062723  0.061458  123.50      0  \n",
       "4 -0.206010  0.502292  0.219422  0.215153   69.99      0  \n",
       "\n",
       "[5 rows x 31 columns]"
      ]
     },
     "execution_count": 85,
     "metadata": {},
     "output_type": "execute_result"
    }
   ],
   "source": [
    "credit.head()"
   ]
  },
  {
   "cell_type": "markdown",
   "metadata": {},
   "source": [
    "Columns V1 to V28 result from a PCA (principal component analysis), which means they are not interpretable by a human, but still hold valuable informations for the classification models."
   ]
  },
  {
   "cell_type": "code",
   "execution_count": 86,
   "metadata": {
    "ExecuteTime": {
     "end_time": "2019-05-19T15:21:26.572439Z",
     "start_time": "2019-05-19T15:21:26.566650Z"
    }
   },
   "outputs": [
    {
     "data": {
      "text/plain": [
       "(284807, 31)"
      ]
     },
     "execution_count": 86,
     "metadata": {},
     "output_type": "execute_result"
    }
   ],
   "source": [
    "credit.shape"
   ]
  },
  {
   "cell_type": "markdown",
   "metadata": {},
   "source": [
    "# Data cleaning"
   ]
  },
  {
   "cell_type": "markdown",
   "metadata": {},
   "source": [
    "## Missing values"
   ]
  },
  {
   "cell_type": "markdown",
   "metadata": {},
   "source": [
    "The first step to any data exploration is handling missing values, as most algorithms cannot deal with them."
   ]
  },
  {
   "cell_type": "code",
   "execution_count": 87,
   "metadata": {
    "ExecuteTime": {
     "end_time": "2019-05-19T15:21:28.320260Z",
     "start_time": "2019-05-19T15:21:28.134526Z"
    },
    "cell_style": "center"
   },
   "outputs": [
    {
     "data": {
      "text/plain": [
       "0"
      ]
     },
     "execution_count": 87,
     "metadata": {},
     "output_type": "execute_result"
    }
   ],
   "source": [
    "credit.isnull().sum().sum()\n",
    "# This dataset contains no missing values"
   ]
  },
  {
   "cell_type": "markdown",
   "metadata": {},
   "source": [
    "## Duplicates"
   ]
  },
  {
   "cell_type": "markdown",
   "metadata": {},
   "source": [
    "Duplicated lines, when present in a high proportion in a dataset, can alter the performance of classification models."
   ]
  },
  {
   "cell_type": "code",
   "execution_count": 88,
   "metadata": {
    "ExecuteTime": {
     "end_time": "2019-05-19T15:21:30.155907Z",
     "start_time": "2019-05-19T15:21:28.935455Z"
    }
   },
   "outputs": [
    {
     "name": "stdout",
     "output_type": "stream",
     "text": [
      "Proportion of duplicated lines : 0.38%\n"
     ]
    }
   ],
   "source": [
    "print(\"Proportion of duplicated lines : \" + str(round((credit.duplicated().sum()/len(credit))*100, ndigits=2)) + \"%\")"
   ]
  },
  {
   "cell_type": "markdown",
   "metadata": {},
   "source": [
    "I would be tempted to drop those duplicated lines, as they ony represent a small fraction of the dataset ; but what if they are all from the \"1\" class, which already represents a minimal fraction of the data ?"
   ]
  },
  {
   "cell_type": "code",
   "execution_count": 89,
   "metadata": {
    "ExecuteTime": {
     "end_time": "2019-05-19T15:21:31.948837Z",
     "start_time": "2019-05-19T15:21:30.583355Z"
    }
   },
   "outputs": [
    {
     "name": "stdout",
     "output_type": "stream",
     "text": [
      "Proportion of duplicated lines in the '0' class : 0.37%\n",
      "Proportion of duplicated lines in the '1' class : 3.86%\n"
     ]
    }
   ],
   "source": [
    "print(\"Proportion of duplicated lines in the '0' class : \" + str(round((credit[credit[\"Class\"] == 0].duplicated().sum()/len(credit[credit[\"Class\"] == 0]))*100, ndigits=2)) + \"%\")\n",
    "print(\"Proportion of duplicated lines in the '1' class : \" + str(round((credit[credit[\"Class\"] == 1].duplicated().sum()/len(credit[credit[\"Class\"] == 1]))*100, ndigits=2)) + \"%\")\n",
    "\n",
    "\n"
   ]
  },
  {
   "cell_type": "markdown",
   "metadata": {},
   "source": [
    "If I just drop all the duplicates, how will the ratio of zeroes to ones evolve ?"
   ]
  },
  {
   "cell_type": "code",
   "execution_count": 90,
   "metadata": {
    "ExecuteTime": {
     "end_time": "2019-05-19T15:21:33.810278Z",
     "start_time": "2019-05-19T15:21:32.378565Z"
    }
   },
   "outputs": [
    {
     "name": "stdout",
     "output_type": "stream",
     "text": [
      "% of negatives & positives in the original dataset\n",
      "0    99.827\n",
      "1     0.173\n",
      "Name: Class, dtype: float64\n",
      "\n",
      "\n",
      "% of negatives & positives in the dataset without duplicates\n",
      "0    99.454\n",
      "1     0.166\n",
      "Name: Class, dtype: float64\n"
     ]
    }
   ],
   "source": [
    "print(\"% of negatives & positives in the original dataset\")\n",
    "print(round((credit[\"Class\"].value_counts()/len(credit))*100, ndigits=3))\n",
    "\n",
    "print(\"\\n\")\n",
    "\n",
    "print(\"% of negatives & positives in the dataset without duplicates\")\n",
    "print(round((credit.drop_duplicates()[\"Class\"].value_counts()/len(credit))*100, ndigits=3))"
   ]
  },
  {
   "cell_type": "markdown",
   "metadata": {},
   "source": [
    "**Conclusion** : I'm gonna keep the duplicates, because : \n",
    "- They represent almost 4% of the fraudulent transactions ; \n",
    "- They could be interpreted as simultaneous orders of transactions, made by bots for instance ; and wouldn't those be more likely to be fraudulent ?"
   ]
  },
  {
   "cell_type": "markdown",
   "metadata": {},
   "source": [
    "# Data Exploration"
   ]
  },
  {
   "cell_type": "code",
   "execution_count": 91,
   "metadata": {
    "ExecuteTime": {
     "end_time": "2019-05-19T15:21:34.882690Z",
     "start_time": "2019-05-19T15:21:34.180151Z"
    },
    "cell_style": "center",
    "scrolled": true
   },
   "outputs": [
    {
     "data": {
      "text/html": [
       "<div>\n",
       "<style scoped>\n",
       "    .dataframe tbody tr th:only-of-type {\n",
       "        vertical-align: middle;\n",
       "    }\n",
       "\n",
       "    .dataframe tbody tr th {\n",
       "        vertical-align: top;\n",
       "    }\n",
       "\n",
       "    .dataframe thead th {\n",
       "        text-align: right;\n",
       "    }\n",
       "</style>\n",
       "<table border=\"1\" class=\"dataframe\">\n",
       "  <thead>\n",
       "    <tr style=\"text-align: right;\">\n",
       "      <th></th>\n",
       "      <th>Time</th>\n",
       "      <th>V1</th>\n",
       "      <th>V2</th>\n",
       "      <th>V3</th>\n",
       "      <th>V4</th>\n",
       "      <th>V5</th>\n",
       "      <th>V6</th>\n",
       "      <th>V7</th>\n",
       "      <th>V8</th>\n",
       "      <th>V9</th>\n",
       "      <th>...</th>\n",
       "      <th>V21</th>\n",
       "      <th>V22</th>\n",
       "      <th>V23</th>\n",
       "      <th>V24</th>\n",
       "      <th>V25</th>\n",
       "      <th>V26</th>\n",
       "      <th>V27</th>\n",
       "      <th>V28</th>\n",
       "      <th>Amount</th>\n",
       "      <th>Class</th>\n",
       "    </tr>\n",
       "  </thead>\n",
       "  <tbody>\n",
       "    <tr>\n",
       "      <th>count</th>\n",
       "      <td>284807.000000</td>\n",
       "      <td>2.848070e+05</td>\n",
       "      <td>2.848070e+05</td>\n",
       "      <td>2.848070e+05</td>\n",
       "      <td>2.848070e+05</td>\n",
       "      <td>2.848070e+05</td>\n",
       "      <td>2.848070e+05</td>\n",
       "      <td>2.848070e+05</td>\n",
       "      <td>2.848070e+05</td>\n",
       "      <td>2.848070e+05</td>\n",
       "      <td>...</td>\n",
       "      <td>2.848070e+05</td>\n",
       "      <td>2.848070e+05</td>\n",
       "      <td>2.848070e+05</td>\n",
       "      <td>2.848070e+05</td>\n",
       "      <td>2.848070e+05</td>\n",
       "      <td>2.848070e+05</td>\n",
       "      <td>2.848070e+05</td>\n",
       "      <td>2.848070e+05</td>\n",
       "      <td>284807.000000</td>\n",
       "      <td>284807.000000</td>\n",
       "    </tr>\n",
       "    <tr>\n",
       "      <th>mean</th>\n",
       "      <td>94813.859575</td>\n",
       "      <td>3.919560e-15</td>\n",
       "      <td>5.688174e-16</td>\n",
       "      <td>-8.769071e-15</td>\n",
       "      <td>2.782312e-15</td>\n",
       "      <td>-1.552563e-15</td>\n",
       "      <td>2.010663e-15</td>\n",
       "      <td>-1.694249e-15</td>\n",
       "      <td>-1.927028e-16</td>\n",
       "      <td>-3.137024e-15</td>\n",
       "      <td>...</td>\n",
       "      <td>1.537294e-16</td>\n",
       "      <td>7.959909e-16</td>\n",
       "      <td>5.367590e-16</td>\n",
       "      <td>4.458112e-15</td>\n",
       "      <td>1.453003e-15</td>\n",
       "      <td>1.699104e-15</td>\n",
       "      <td>-3.660161e-16</td>\n",
       "      <td>-1.206049e-16</td>\n",
       "      <td>88.349619</td>\n",
       "      <td>0.001727</td>\n",
       "    </tr>\n",
       "    <tr>\n",
       "      <th>std</th>\n",
       "      <td>47488.145955</td>\n",
       "      <td>1.958696e+00</td>\n",
       "      <td>1.651309e+00</td>\n",
       "      <td>1.516255e+00</td>\n",
       "      <td>1.415869e+00</td>\n",
       "      <td>1.380247e+00</td>\n",
       "      <td>1.332271e+00</td>\n",
       "      <td>1.237094e+00</td>\n",
       "      <td>1.194353e+00</td>\n",
       "      <td>1.098632e+00</td>\n",
       "      <td>...</td>\n",
       "      <td>7.345240e-01</td>\n",
       "      <td>7.257016e-01</td>\n",
       "      <td>6.244603e-01</td>\n",
       "      <td>6.056471e-01</td>\n",
       "      <td>5.212781e-01</td>\n",
       "      <td>4.822270e-01</td>\n",
       "      <td>4.036325e-01</td>\n",
       "      <td>3.300833e-01</td>\n",
       "      <td>250.120109</td>\n",
       "      <td>0.041527</td>\n",
       "    </tr>\n",
       "    <tr>\n",
       "      <th>min</th>\n",
       "      <td>0.000000</td>\n",
       "      <td>-5.640751e+01</td>\n",
       "      <td>-7.271573e+01</td>\n",
       "      <td>-4.832559e+01</td>\n",
       "      <td>-5.683171e+00</td>\n",
       "      <td>-1.137433e+02</td>\n",
       "      <td>-2.616051e+01</td>\n",
       "      <td>-4.355724e+01</td>\n",
       "      <td>-7.321672e+01</td>\n",
       "      <td>-1.343407e+01</td>\n",
       "      <td>...</td>\n",
       "      <td>-3.483038e+01</td>\n",
       "      <td>-1.093314e+01</td>\n",
       "      <td>-4.480774e+01</td>\n",
       "      <td>-2.836627e+00</td>\n",
       "      <td>-1.029540e+01</td>\n",
       "      <td>-2.604551e+00</td>\n",
       "      <td>-2.256568e+01</td>\n",
       "      <td>-1.543008e+01</td>\n",
       "      <td>0.000000</td>\n",
       "      <td>0.000000</td>\n",
       "    </tr>\n",
       "    <tr>\n",
       "      <th>25%</th>\n",
       "      <td>54201.500000</td>\n",
       "      <td>-9.203734e-01</td>\n",
       "      <td>-5.985499e-01</td>\n",
       "      <td>-8.903648e-01</td>\n",
       "      <td>-8.486401e-01</td>\n",
       "      <td>-6.915971e-01</td>\n",
       "      <td>-7.682956e-01</td>\n",
       "      <td>-5.540759e-01</td>\n",
       "      <td>-2.086297e-01</td>\n",
       "      <td>-6.430976e-01</td>\n",
       "      <td>...</td>\n",
       "      <td>-2.283949e-01</td>\n",
       "      <td>-5.423504e-01</td>\n",
       "      <td>-1.618463e-01</td>\n",
       "      <td>-3.545861e-01</td>\n",
       "      <td>-3.171451e-01</td>\n",
       "      <td>-3.269839e-01</td>\n",
       "      <td>-7.083953e-02</td>\n",
       "      <td>-5.295979e-02</td>\n",
       "      <td>5.600000</td>\n",
       "      <td>0.000000</td>\n",
       "    </tr>\n",
       "    <tr>\n",
       "      <th>50%</th>\n",
       "      <td>84692.000000</td>\n",
       "      <td>1.810880e-02</td>\n",
       "      <td>6.548556e-02</td>\n",
       "      <td>1.798463e-01</td>\n",
       "      <td>-1.984653e-02</td>\n",
       "      <td>-5.433583e-02</td>\n",
       "      <td>-2.741871e-01</td>\n",
       "      <td>4.010308e-02</td>\n",
       "      <td>2.235804e-02</td>\n",
       "      <td>-5.142873e-02</td>\n",
       "      <td>...</td>\n",
       "      <td>-2.945017e-02</td>\n",
       "      <td>6.781943e-03</td>\n",
       "      <td>-1.119293e-02</td>\n",
       "      <td>4.097606e-02</td>\n",
       "      <td>1.659350e-02</td>\n",
       "      <td>-5.213911e-02</td>\n",
       "      <td>1.342146e-03</td>\n",
       "      <td>1.124383e-02</td>\n",
       "      <td>22.000000</td>\n",
       "      <td>0.000000</td>\n",
       "    </tr>\n",
       "    <tr>\n",
       "      <th>75%</th>\n",
       "      <td>139320.500000</td>\n",
       "      <td>1.315642e+00</td>\n",
       "      <td>8.037239e-01</td>\n",
       "      <td>1.027196e+00</td>\n",
       "      <td>7.433413e-01</td>\n",
       "      <td>6.119264e-01</td>\n",
       "      <td>3.985649e-01</td>\n",
       "      <td>5.704361e-01</td>\n",
       "      <td>3.273459e-01</td>\n",
       "      <td>5.971390e-01</td>\n",
       "      <td>...</td>\n",
       "      <td>1.863772e-01</td>\n",
       "      <td>5.285536e-01</td>\n",
       "      <td>1.476421e-01</td>\n",
       "      <td>4.395266e-01</td>\n",
       "      <td>3.507156e-01</td>\n",
       "      <td>2.409522e-01</td>\n",
       "      <td>9.104512e-02</td>\n",
       "      <td>7.827995e-02</td>\n",
       "      <td>77.165000</td>\n",
       "      <td>0.000000</td>\n",
       "    </tr>\n",
       "    <tr>\n",
       "      <th>max</th>\n",
       "      <td>172792.000000</td>\n",
       "      <td>2.454930e+00</td>\n",
       "      <td>2.205773e+01</td>\n",
       "      <td>9.382558e+00</td>\n",
       "      <td>1.687534e+01</td>\n",
       "      <td>3.480167e+01</td>\n",
       "      <td>7.330163e+01</td>\n",
       "      <td>1.205895e+02</td>\n",
       "      <td>2.000721e+01</td>\n",
       "      <td>1.559499e+01</td>\n",
       "      <td>...</td>\n",
       "      <td>2.720284e+01</td>\n",
       "      <td>1.050309e+01</td>\n",
       "      <td>2.252841e+01</td>\n",
       "      <td>4.584549e+00</td>\n",
       "      <td>7.519589e+00</td>\n",
       "      <td>3.517346e+00</td>\n",
       "      <td>3.161220e+01</td>\n",
       "      <td>3.384781e+01</td>\n",
       "      <td>25691.160000</td>\n",
       "      <td>1.000000</td>\n",
       "    </tr>\n",
       "  </tbody>\n",
       "</table>\n",
       "<p>8 rows × 31 columns</p>\n",
       "</div>"
      ],
      "text/plain": [
       "                Time            V1            V2            V3            V4  \\\n",
       "count  284807.000000  2.848070e+05  2.848070e+05  2.848070e+05  2.848070e+05   \n",
       "mean    94813.859575  3.919560e-15  5.688174e-16 -8.769071e-15  2.782312e-15   \n",
       "std     47488.145955  1.958696e+00  1.651309e+00  1.516255e+00  1.415869e+00   \n",
       "min         0.000000 -5.640751e+01 -7.271573e+01 -4.832559e+01 -5.683171e+00   \n",
       "25%     54201.500000 -9.203734e-01 -5.985499e-01 -8.903648e-01 -8.486401e-01   \n",
       "50%     84692.000000  1.810880e-02  6.548556e-02  1.798463e-01 -1.984653e-02   \n",
       "75%    139320.500000  1.315642e+00  8.037239e-01  1.027196e+00  7.433413e-01   \n",
       "max    172792.000000  2.454930e+00  2.205773e+01  9.382558e+00  1.687534e+01   \n",
       "\n",
       "                 V5            V6            V7            V8            V9  \\\n",
       "count  2.848070e+05  2.848070e+05  2.848070e+05  2.848070e+05  2.848070e+05   \n",
       "mean  -1.552563e-15  2.010663e-15 -1.694249e-15 -1.927028e-16 -3.137024e-15   \n",
       "std    1.380247e+00  1.332271e+00  1.237094e+00  1.194353e+00  1.098632e+00   \n",
       "min   -1.137433e+02 -2.616051e+01 -4.355724e+01 -7.321672e+01 -1.343407e+01   \n",
       "25%   -6.915971e-01 -7.682956e-01 -5.540759e-01 -2.086297e-01 -6.430976e-01   \n",
       "50%   -5.433583e-02 -2.741871e-01  4.010308e-02  2.235804e-02 -5.142873e-02   \n",
       "75%    6.119264e-01  3.985649e-01  5.704361e-01  3.273459e-01  5.971390e-01   \n",
       "max    3.480167e+01  7.330163e+01  1.205895e+02  2.000721e+01  1.559499e+01   \n",
       "\n",
       "           ...                 V21           V22           V23           V24  \\\n",
       "count      ...        2.848070e+05  2.848070e+05  2.848070e+05  2.848070e+05   \n",
       "mean       ...        1.537294e-16  7.959909e-16  5.367590e-16  4.458112e-15   \n",
       "std        ...        7.345240e-01  7.257016e-01  6.244603e-01  6.056471e-01   \n",
       "min        ...       -3.483038e+01 -1.093314e+01 -4.480774e+01 -2.836627e+00   \n",
       "25%        ...       -2.283949e-01 -5.423504e-01 -1.618463e-01 -3.545861e-01   \n",
       "50%        ...       -2.945017e-02  6.781943e-03 -1.119293e-02  4.097606e-02   \n",
       "75%        ...        1.863772e-01  5.285536e-01  1.476421e-01  4.395266e-01   \n",
       "max        ...        2.720284e+01  1.050309e+01  2.252841e+01  4.584549e+00   \n",
       "\n",
       "                V25           V26           V27           V28         Amount  \\\n",
       "count  2.848070e+05  2.848070e+05  2.848070e+05  2.848070e+05  284807.000000   \n",
       "mean   1.453003e-15  1.699104e-15 -3.660161e-16 -1.206049e-16      88.349619   \n",
       "std    5.212781e-01  4.822270e-01  4.036325e-01  3.300833e-01     250.120109   \n",
       "min   -1.029540e+01 -2.604551e+00 -2.256568e+01 -1.543008e+01       0.000000   \n",
       "25%   -3.171451e-01 -3.269839e-01 -7.083953e-02 -5.295979e-02       5.600000   \n",
       "50%    1.659350e-02 -5.213911e-02  1.342146e-03  1.124383e-02      22.000000   \n",
       "75%    3.507156e-01  2.409522e-01  9.104512e-02  7.827995e-02      77.165000   \n",
       "max    7.519589e+00  3.517346e+00  3.161220e+01  3.384781e+01   25691.160000   \n",
       "\n",
       "               Class  \n",
       "count  284807.000000  \n",
       "mean        0.001727  \n",
       "std         0.041527  \n",
       "min         0.000000  \n",
       "25%         0.000000  \n",
       "50%         0.000000  \n",
       "75%         0.000000  \n",
       "max         1.000000  \n",
       "\n",
       "[8 rows x 31 columns]"
      ]
     },
     "execution_count": 91,
     "metadata": {},
     "output_type": "execute_result"
    }
   ],
   "source": [
    "credit.describe()"
   ]
  },
  {
   "cell_type": "markdown",
   "metadata": {},
   "source": [
    "## The target"
   ]
  },
  {
   "cell_type": "markdown",
   "metadata": {},
   "source": [
    "### An imbalanced target"
   ]
  },
  {
   "cell_type": "markdown",
   "metadata": {},
   "source": [
    "My target is the column \"Class\". It is binary => only two classes : \n",
    " - \"0\" for a non-fraudulent transaction\n",
    " - \"1\" for a fraudulent one."
   ]
  },
  {
   "cell_type": "code",
   "execution_count": 92,
   "metadata": {
    "ExecuteTime": {
     "end_time": "2019-05-19T15:21:35.220734Z",
     "start_time": "2019-05-19T15:21:35.209830Z"
    }
   },
   "outputs": [
    {
     "name": "stdout",
     "output_type": "stream",
     "text": [
      "% of negatives & positives in the original dataset\n",
      "0    99.83\n",
      "1     0.17\n",
      "Name: Class, dtype: float64\n"
     ]
    }
   ],
   "source": [
    "# Ratio of positives (fraud yes) & negatives (fraud no)\n",
    "\n",
    "print(\"% of negatives & positives in the original dataset\")\n",
    "print(round((credit[\"Class\"].value_counts()/len(credit))*100, ndigits=2))"
   ]
  },
  {
   "cell_type": "code",
   "execution_count": 93,
   "metadata": {
    "ExecuteTime": {
     "end_time": "2019-05-19T15:21:35.668341Z",
     "start_time": "2019-05-19T15:21:35.527041Z"
    }
   },
   "outputs": [
    {
     "data": {
      "image/png": "[encoded data removed]",
      "text/plain": [
       "<Figure size 432x288 with 1 Axes>"
      ]
     },
     "metadata": {
      "needs_background": "light"
     },
     "output_type": "display_data"
    }
   ],
   "source": [
    "plt.figure()\n",
    "\n",
    "sns.countplot(credit[\"Class\"])\n",
    "plt.title(\"Repartition of fraudulent vs non-fraudulent transactions\")\n",
    "plt.ylabel(\"Frequency\")\n",
    "\n",
    "plt.show()"
   ]
  },
  {
   "cell_type": "markdown",
   "metadata": {},
   "source": [
    "The target is extremely unbalanced, which is a parameter to take into account when deploying an algorithm."
   ]
  },
  {
   "cell_type": "markdown",
   "metadata": {},
   "source": [
    "### Features correlations"
   ]
  },
  {
   "cell_type": "code",
   "execution_count": 94,
   "metadata": {
    "ExecuteTime": {
     "end_time": "2019-05-19T15:21:36.075861Z",
     "start_time": "2019-05-19T15:21:36.037795Z"
    }
   },
   "outputs": [],
   "source": [
    "credit2 = credit.drop(columns = [\"Class\", \"Time\"])"
   ]
  },
  {
   "cell_type": "code",
   "execution_count": 95,
   "metadata": {
    "ExecuteTime": {
     "end_time": "2019-05-19T15:21:36.990592Z",
     "start_time": "2019-05-19T15:21:36.399164Z"
    }
   },
   "outputs": [
    {
     "data": {
      "image/png": "[encoded data removed]",
      "text/plain": [
       "<Figure size 1440x720 with 1 Axes>"
      ]
     },
     "metadata": {
      "needs_background": "light"
     },
     "output_type": "display_data"
    }
   ],
   "source": [
    "credit2.corrwith(credit[\"Class\"]).plot.bar(figsize=(20,10),\n",
    "              title = \"Coefficient of correlation of each feature with the Class\",\n",
    "              fontsize = 15, rot = 45,\n",
    "              grid = True);"
   ]
  },
  {
   "cell_type": "markdown",
   "metadata": {},
   "source": [
    "## \"Meaningful\" features"
   ]
  },
  {
   "cell_type": "markdown",
   "metadata": {},
   "source": [
    "Other than the target column, only two columns of the dataset are humanly interpretable  :\n",
    "- \"Time\" : time in second relative to the first transaction\n",
    "- \"Amount\" : the amount of the transaction"
   ]
  },
  {
   "cell_type": "code",
   "execution_count": 96,
   "metadata": {
    "ExecuteTime": {
     "end_time": "2019-05-19T15:21:37.311007Z",
     "start_time": "2019-05-19T15:21:37.298034Z"
    },
    "cell_style": "split"
   },
   "outputs": [
    {
     "data": {
      "text/html": [
       "<div>\n",
       "<style scoped>\n",
       "    .dataframe tbody tr th:only-of-type {\n",
       "        vertical-align: middle;\n",
       "    }\n",
       "\n",
       "    .dataframe tbody tr th {\n",
       "        vertical-align: top;\n",
       "    }\n",
       "\n",
       "    .dataframe thead th {\n",
       "        text-align: right;\n",
       "    }\n",
       "</style>\n",
       "<table border=\"1\" class=\"dataframe\">\n",
       "  <thead>\n",
       "    <tr style=\"text-align: right;\">\n",
       "      <th></th>\n",
       "      <th>Time</th>\n",
       "      <th>Amount</th>\n",
       "    </tr>\n",
       "  </thead>\n",
       "  <tbody>\n",
       "    <tr>\n",
       "      <th>0</th>\n",
       "      <td>0.0</td>\n",
       "      <td>149.62</td>\n",
       "    </tr>\n",
       "    <tr>\n",
       "      <th>1</th>\n",
       "      <td>0.0</td>\n",
       "      <td>2.69</td>\n",
       "    </tr>\n",
       "    <tr>\n",
       "      <th>2</th>\n",
       "      <td>1.0</td>\n",
       "      <td>378.66</td>\n",
       "    </tr>\n",
       "    <tr>\n",
       "      <th>3</th>\n",
       "      <td>1.0</td>\n",
       "      <td>123.50</td>\n",
       "    </tr>\n",
       "    <tr>\n",
       "      <th>4</th>\n",
       "      <td>2.0</td>\n",
       "      <td>69.99</td>\n",
       "    </tr>\n",
       "  </tbody>\n",
       "</table>\n",
       "</div>"
      ],
      "text/plain": [
       "   Time  Amount\n",
       "0   0.0  149.62\n",
       "1   0.0    2.69\n",
       "2   1.0  378.66\n",
       "3   1.0  123.50\n",
       "4   2.0   69.99"
      ]
     },
     "execution_count": 96,
     "metadata": {},
     "output_type": "execute_result"
    }
   ],
   "source": [
    "credit[[\"Time\", \"Amount\"]].head()"
   ]
  },
  {
   "cell_type": "code",
   "execution_count": 97,
   "metadata": {
    "ExecuteTime": {
     "end_time": "2019-05-19T15:21:37.655662Z",
     "start_time": "2019-05-19T15:21:37.642665Z"
    },
    "cell_style": "split"
   },
   "outputs": [
    {
     "data": {
      "text/html": [
       "<div>\n",
       "<style scoped>\n",
       "    .dataframe tbody tr th:only-of-type {\n",
       "        vertical-align: middle;\n",
       "    }\n",
       "\n",
       "    .dataframe tbody tr th {\n",
       "        vertical-align: top;\n",
       "    }\n",
       "\n",
       "    .dataframe thead th {\n",
       "        text-align: right;\n",
       "    }\n",
       "</style>\n",
       "<table border=\"1\" class=\"dataframe\">\n",
       "  <thead>\n",
       "    <tr style=\"text-align: right;\">\n",
       "      <th></th>\n",
       "      <th>Time</th>\n",
       "      <th>Amount</th>\n",
       "    </tr>\n",
       "  </thead>\n",
       "  <tbody>\n",
       "    <tr>\n",
       "      <th>284802</th>\n",
       "      <td>172786.0</td>\n",
       "      <td>0.77</td>\n",
       "    </tr>\n",
       "    <tr>\n",
       "      <th>284803</th>\n",
       "      <td>172787.0</td>\n",
       "      <td>24.79</td>\n",
       "    </tr>\n",
       "    <tr>\n",
       "      <th>284804</th>\n",
       "      <td>172788.0</td>\n",
       "      <td>67.88</td>\n",
       "    </tr>\n",
       "    <tr>\n",
       "      <th>284805</th>\n",
       "      <td>172788.0</td>\n",
       "      <td>10.00</td>\n",
       "    </tr>\n",
       "    <tr>\n",
       "      <th>284806</th>\n",
       "      <td>172792.0</td>\n",
       "      <td>217.00</td>\n",
       "    </tr>\n",
       "  </tbody>\n",
       "</table>\n",
       "</div>"
      ],
      "text/plain": [
       "            Time  Amount\n",
       "284802  172786.0    0.77\n",
       "284803  172787.0   24.79\n",
       "284804  172788.0   67.88\n",
       "284805  172788.0   10.00\n",
       "284806  172792.0  217.00"
      ]
     },
     "execution_count": 97,
     "metadata": {},
     "output_type": "execute_result"
    }
   ],
   "source": [
    "credit[[\"Time\", \"Amount\"]].tail()"
   ]
  },
  {
   "cell_type": "markdown",
   "metadata": {},
   "source": [
    "### Column \"Amount\""
   ]
  },
  {
   "cell_type": "markdown",
   "metadata": {},
   "source": [
    "#### Dataviz"
   ]
  },
  {
   "cell_type": "code",
   "execution_count": 98,
   "metadata": {
    "ExecuteTime": {
     "end_time": "2019-05-19T15:21:39.685664Z",
     "start_time": "2019-05-19T15:21:39.178931Z"
    },
    "cell_style": "center"
   },
   "outputs": [
    {
     "data": {
      "image/png": "[encoded data removed]",
      "text/plain": [
       "<Figure size 720x432 with 1 Axes>"
      ]
     },
     "metadata": {
      "needs_background": "light"
     },
     "output_type": "display_data"
    }
   ],
   "source": [
    "plt.figure(figsize=(10,6))\n",
    "\n",
    "sns.distplot(credit[\"Amount\"], bins=100)\n",
    "plt.title(\"Distribution of transactions per amount\")\n",
    "\n",
    "\n",
    "plt.show()"
   ]
  },
  {
   "cell_type": "markdown",
   "metadata": {},
   "source": [
    "From this plot, we observe that the majority of transactions are for a low amount.."
   ]
  },
  {
   "cell_type": "code",
   "execution_count": 99,
   "metadata": {
    "ExecuteTime": {
     "end_time": "2019-05-19T15:21:40.483365Z",
     "start_time": "2019-05-19T15:21:40.155120Z"
    }
   },
   "outputs": [
    {
     "data": {
      "image/png": "[encoded data removed]",
      "text/plain": [
       "<Figure size 864x432 with 1 Axes>"
      ]
     },
     "metadata": {
      "needs_background": "light"
     },
     "output_type": "display_data"
    }
   ],
   "source": [
    "plt.figure(figsize=(12, 6))\n",
    "\n",
    "ax0 = sns.kdeplot(credit[(credit[\"Class\"] == 1)  & (credit[\"Amount\"] < 2000)][\"Amount\"], c='red', label=\"Fraudulent\")\n",
    "ax1 = sns.kdeplot(credit[(credit[\"Class\"] == 0) & (credit[\"Amount\"] < 2000)][\"Amount\"], c='blue', label=\"Non-fraudulent\")\n",
    "\n",
    "plt.title(\"Distribution of fraudulent vs non-fraudulent transactions for amounts inferior to 2000$\")\n",
    "plt.show()"
   ]
  },
  {
   "cell_type": "markdown",
   "metadata": {},
   "source": [
    "- We can see that low-amount transactions represent a higher proportion of fraudulent transactions than of non-fraudulent ones.\n",
    "- The amount of the transaction seems to be a significant feature in determining wheter it is fraudulent or not."
   ]
  },
  {
   "cell_type": "markdown",
   "metadata": {},
   "source": [
    "#### Data analysis"
   ]
  },
  {
   "cell_type": "markdown",
   "metadata": {},
   "source": [
    "**There are transactions for an amount of 0€**"
   ]
  },
  {
   "cell_type": "code",
   "execution_count": 100,
   "metadata": {
    "ExecuteTime": {
     "end_time": "2019-05-19T15:21:41.841837Z",
     "start_time": "2019-05-19T15:21:41.759365Z"
    }
   },
   "outputs": [
    {
     "name": "stdout",
     "output_type": "stream",
     "text": [
      "Proportion of transactions for an amount of 0$ : 0.64%\n",
      "Proportion of fraudulent transactions for an amount of 0$ : 5.49%\n",
      "Proportion of non-fraudulent transactions for an amount of 0$ : 0.63%\n"
     ]
    }
   ],
   "source": [
    "print(\"Proportion of transactions for an amount of 0$ : \" + str(round((len(credit[credit['Amount'] == 0])/len(credit))*100, ndigits=2)) + \"%\")\n",
    "\n",
    "print(\"Proportion of fraudulent transactions for an amount of 0$ : \" + str(round((len(credit[(credit[\"Amount\"] == 0) & (credit[\"Class\"] == 1)])/len(credit[credit[\"Class\"] == 1]))*100, ndigits=2)) + \"%\")\n",
    "print(\"Proportion of non-fraudulent transactions for an amount of 0$ : \" + str(round((len(credit[(credit[\"Amount\"] == 0) & (credit[\"Class\"] == 0)])/len(credit[credit[\"Class\"] == 0]))*100, ndigits=2)) + \"%\")\n"
   ]
  },
  {
   "cell_type": "markdown",
   "metadata": {},
   "source": [
    "Those 0€-transactions can be interpreted as failed transactions ; this interpretation is reinforced by the high proportion of 0€-transactions in the fraudulent class => those transcations migt have failed because they were flagged as fraudulent."
   ]
  },
  {
   "cell_type": "markdown",
   "metadata": {},
   "source": [
    "**There's also quite a lot of transactions for less than 1€**"
   ]
  },
  {
   "cell_type": "code",
   "execution_count": 101,
   "metadata": {
    "ExecuteTime": {
     "end_time": "2019-05-19T15:21:43.105167Z",
     "start_time": "2019-05-19T15:21:42.959738Z"
    }
   },
   "outputs": [
    {
     "name": "stdout",
     "output_type": "stream",
     "text": [
      "Proportion of transactions for an amount inferior to 10$ : 34.17%\n",
      "Proportion of fraudulous transactions for an amount inferior to 10$ : 50.61%\n",
      "Proportion of non-fraudulous transactions for an amount inferior to 10$ : 34.14%\n"
     ]
    }
   ],
   "source": [
    "print(\"Proportion of transactions for an amount inferior to 10$ : \" + str(round((len(credit[credit['Amount'] < 10])/len(credit))*100, ndigits=2)) + \"%\")\n",
    "\n",
    "print(\"Proportion of fraudulous transactions for an amount inferior to 10$ : \" + str(round((len(credit[(credit[\"Amount\"] < 10) & (credit[\"Class\"] == 1)])/len(credit[credit[\"Class\"] == 1]))*100, ndigits=2)) + \"%\")\n",
    "print(\"Proportion of non-fraudulous transactions for an amount inferior to 10$ : \" + str(round((len(credit[(credit[\"Amount\"] < 10) & (credit[\"Class\"] == 0)])/len(credit[credit[\"Class\"] == 0]))*100, ndigits=2)) + \"%\")\n",
    "\n"
   ]
  },
  {
   "cell_type": "markdown",
   "metadata": {},
   "source": [
    "We find the same conclusion from the distribution plot : low-amount transactions represent a higher proportion of fraudulent transactions than of non-fraudulent ones."
   ]
  },
  {
   "cell_type": "markdown",
   "metadata": {},
   "source": [
    "**What about transactions for high amounts ?**"
   ]
  },
  {
   "cell_type": "code",
   "execution_count": 102,
   "metadata": {
    "ExecuteTime": {
     "end_time": "2019-05-19T15:21:44.282856Z",
     "start_time": "2019-05-19T15:21:44.223078Z"
    }
   },
   "outputs": [
    {
     "name": "stdout",
     "output_type": "stream",
     "text": [
      "Proportion of transactions for an amount superior to 2000$ : 0.24%\n",
      "Proportion of fraudulent transactions for an amount superior to 2000$ : 0.203%\n",
      "Proportion of non-fraudulent transactions for an amount superior to 2000$ : 0.00035%\n"
     ]
    }
   ],
   "source": [
    "# I will define a \"high amount\" transaction as a transaction representing more than 2000$\n",
    "\n",
    "credit[credit[\"Amount\"] > 2000]\n",
    "\n",
    "print(\"Proportion of transactions for an amount superior to 2000$ : \" + str(round((len(credit[credit['Amount'] > 2000])/len(credit))*100, ndigits=2)) + \"%\")\n",
    "\n",
    "print(\"Proportion of fraudulent transactions for an amount superior to 2000$ : \" + str(round((len(credit[(credit['Amount'] > 2000) & (credit[\"Class\"] == 1)])/len(credit[credit[\"Class\"] == 1]))*100, ndigits=3)) + \"%\")\n",
    "\n",
    "print(\"Proportion of non-fraudulent transactions for an amount superior to 2000$ : \" + str(round((len(credit[(credit['Amount'] > 2000) & (credit[\"Class\"] == 1)])/len(credit[credit[\"Class\"] == 0]))*100, ndigits=5)) + \"%\")\n"
   ]
  },
  {
   "cell_type": "markdown",
   "metadata": {},
   "source": [
    "#### Feature engineering"
   ]
  },
  {
   "cell_type": "markdown",
   "metadata": {},
   "source": [
    "I'm gonna make categorical columns depending on the amount of the transaction."
   ]
  },
  {
   "cell_type": "code",
   "execution_count": 103,
   "metadata": {
    "ExecuteTime": {
     "end_time": "2019-05-19T15:21:45.528394Z",
     "start_time": "2019-05-19T15:21:45.520929Z"
    }
   },
   "outputs": [],
   "source": [
    "# Instanciating the new categorical column\n",
    "credit[\"Amount_cat\"] = credit[\"Amount\"].copy()"
   ]
  },
  {
   "cell_type": "code",
   "execution_count": 104,
   "metadata": {
    "ExecuteTime": {
     "end_time": "2019-05-19T15:21:46.087793Z",
     "start_time": "2019-05-19T15:21:46.082736Z"
    }
   },
   "outputs": [],
   "source": [
    "def amount_it_up(x):\n",
    "    if x == 0:\n",
    "        return \"Amount 0 $\"\n",
    "    elif x < 10 :\n",
    "        return \"Amount less than 10$\"\n",
    "    elif x < 1000:\n",
    "        return \"Amount less than 1000$\"\n",
    "    elif x < 2000:\n",
    "        return \"Amount less than 2000$\"\n",
    "    else:\n",
    "        return \"High amount\""
   ]
  },
  {
   "cell_type": "code",
   "execution_count": 105,
   "metadata": {
    "ExecuteTime": {
     "end_time": "2019-05-19T15:21:46.696655Z",
     "start_time": "2019-05-19T15:21:46.535477Z"
    }
   },
   "outputs": [],
   "source": [
    "credit[\"Amount_cat\"] = credit[\"Amount_cat\"].apply(lambda x: amount_it_up(x))"
   ]
  },
  {
   "cell_type": "code",
   "execution_count": 106,
   "metadata": {
    "ExecuteTime": {
     "end_time": "2019-05-19T15:21:47.337249Z",
     "start_time": "2019-05-19T15:21:47.105239Z"
    }
   },
   "outputs": [
    {
     "data": {
      "image/png": "[encoded data removed]",
      "text/plain": [
       "<Figure size 864x432 with 1 Axes>"
      ]
     },
     "metadata": {
      "needs_background": "light"
     },
     "output_type": "display_data"
    }
   ],
   "source": [
    "plt.figure(figsize=(12, 6))\n",
    "\n",
    "sns.countplot(credit[\"Amount_cat\"], order=[\"Amount 0 $\", \"Amount less than 10$\",\n",
    "                                          \"Amount less than 1000$\", \"Amount less than 2000$\",\n",
    "                                          \"High amount\"])\n",
    "plt.title(\"Repartition of transactions by amount category\")\n",
    "plt.xlabel(\"Amount category\")\n",
    "\n",
    "plt.show()"
   ]
  },
  {
   "cell_type": "code",
   "execution_count": 107,
   "metadata": {
    "ExecuteTime": {
     "end_time": "2019-05-19T15:21:48.100951Z",
     "start_time": "2019-05-19T15:21:47.751824Z"
    }
   },
   "outputs": [
    {
     "data": {
      "image/png": "[encoded data removed]",
      "text/plain": [
       "<Figure size 1080x288 with 2 Axes>"
      ]
     },
     "metadata": {
      "needs_background": "light"
     },
     "output_type": "display_data"
    }
   ],
   "source": [
    "plt.figure(figsize=(15, 4))\n",
    "\n",
    "plt.subplot(1, 2, 1)\n",
    "sns.countplot(credit[\"Amount_cat\"][credit[\"Class\"] == 0], order=[\"Amount 0 $\", \"Amount less than 10$\",\n",
    "                                          \"Amount less than 1000$\", \"Amount less than 2000$\",\n",
    "                                          \"High amount\"])\n",
    "plt.title(\"Repartition of non-fraudulent transactions by amount category\")\n",
    "plt.xlabel(\"Amount category\")\n",
    "plt.xticks(rotation=45)\n",
    "\n",
    "\n",
    "plt.subplot(1, 2, 2)\n",
    "sns.countplot(credit[\"Amount_cat\"][credit[\"Class\"] == 1], order=[\"Amount 0 $\", \"Amount less than 10$\",\n",
    "                                          \"Amount less than 1000$\", \"Amount less than 2000$\",\n",
    "                                          \"High amount\"])\n",
    "plt.title(\"Repartition of fraudulent transactions by amount category\")\n",
    "plt.xlabel(\"Amount category\")\n",
    "plt.xticks(rotation=45)\n",
    "\n",
    "plt.show()"
   ]
  },
  {
   "cell_type": "markdown",
   "metadata": {},
   "source": [
    "As intuited before, the repartition of the transaction based on their amount category differs wether it is fraudulent or non-fraudulent. For instance, transactions for a aount of less than 10$ represent a much higher percentage of fraudulent trannsactions than of non-fraudulent ones."
   ]
  },
  {
   "cell_type": "markdown",
   "metadata": {},
   "source": [
    "### \"Time\""
   ]
  },
  {
   "cell_type": "markdown",
   "metadata": {},
   "source": [
    "#### Dataviz"
   ]
  },
  {
   "cell_type": "code",
   "execution_count": 108,
   "metadata": {
    "ExecuteTime": {
     "end_time": "2019-05-19T15:21:50.409884Z",
     "start_time": "2019-05-19T15:21:49.710076Z"
    },
    "scrolled": true
   },
   "outputs": [
    {
     "data": {
      "image/png": "[encoded data removed]",
      "text/plain": [
       "<Figure size 1152x576 with 2 Axes>"
      ]
     },
     "metadata": {
      "needs_background": "light"
     },
     "output_type": "display_data"
    }
   ],
   "source": [
    "plt.figure(figsize=(16, 8))\n",
    "\n",
    "plt.subplot(2, 2, 1)\n",
    "sns.distplot(credit[\"Time\"])\n",
    "plt.title(\"Distribution of all transactions depending on the time\\n(relative time, in seconds)\")\n",
    "\n",
    "plt.subplot(2, 2, 2)\n",
    "ax0 = sns.kdeplot(credit[\"Time\"][credit[\"Class\"] == 1], c='red', label=\"Fraudulous\")\n",
    "ax1 = sns.kdeplot(credit[\"Time\"][credit[\"Class\"] == 0], c='blue', label=\"Non-fraudulous\")\n",
    "plt.title(\"Density of fraudulent vs non-fraudulent transactions depending on the time\\n(relative time, in seconds)\")\n",
    "\n",
    "plt.show()"
   ]
  },
  {
   "cell_type": "markdown",
   "metadata": {},
   "source": [
    "Time seems to matter when it comes to detecting fraudulous transactions : the distribution transactions depending on the time varies differently according to the type of transaction."
   ]
  },
  {
   "cell_type": "code",
   "execution_count": 109,
   "metadata": {
    "ExecuteTime": {
     "end_time": "2019-05-19T15:21:51.507162Z",
     "start_time": "2019-05-19T15:21:50.802407Z"
    },
    "scrolled": true
   },
   "outputs": [
    {
     "data": {
      "image/png": "[encoded data removed]",
      "text/plain": [
       "<Figure size 1152x576 with 2 Axes>"
      ]
     },
     "metadata": {
      "needs_background": "light"
     },
     "output_type": "display_data"
    }
   ],
   "source": [
    "plt.figure(figsize=(16, 8))\n",
    "\n",
    "plt.subplot(2, 2, 1)\n",
    "sns.distplot(credit[\"Time\"] /3600 %24)\n",
    "plt.title(\"Distribution of all transactions depending on the time \\n(per hour, over 24 hours)\")\n",
    "\n",
    "plt.subplot(2, 2, 2)\n",
    "ax0 = sns.kdeplot(credit[\"Time\"][credit[\"Class\"] == 1] /3600 %24, c='red', label=\"Fraudulous\")\n",
    "ax1 = sns.kdeplot(credit[\"Time\"][credit[\"Class\"] == 0] /3600 %24, c='blue', label=\"Non-fraudulous\")\n",
    "plt.title(\"Density of fraudulent vs non-fraudulent transactions depending on the time \\n(per hour, over 24 hours)\")\n",
    "\n",
    "plt.show()"
   ]
  },
  {
   "cell_type": "markdown",
   "metadata": {},
   "source": [
    "**Graph analysis** : Fraudulous transactions seem to happen in the morning, in a higher proportion than non-fraudulous transactions."
   ]
  },
  {
   "cell_type": "markdown",
   "metadata": {},
   "source": [
    "#### Feature engineering"
   ]
  },
  {
   "cell_type": "code",
   "execution_count": 110,
   "metadata": {
    "ExecuteTime": {
     "end_time": "2019-05-19T15:21:52.253871Z",
     "start_time": "2019-05-19T15:21:52.242008Z"
    }
   },
   "outputs": [],
   "source": [
    "# Creating a column \"Hours\"\n",
    "credit[\"Hour\"] = round(credit[\"Time\"] /3600 %24)"
   ]
  },
  {
   "cell_type": "code",
   "execution_count": 111,
   "metadata": {
    "ExecuteTime": {
     "end_time": "2019-05-19T15:21:53.517253Z",
     "start_time": "2019-05-19T15:21:52.765477Z"
    }
   },
   "outputs": [
    {
     "data": {
      "image/png": "[encoded data removed]",
      "text/plain": [
       "<Figure size 1080x432 with 2 Axes>"
      ]
     },
     "metadata": {
      "needs_background": "light"
     },
     "output_type": "display_data"
    }
   ],
   "source": [
    "plt.figure(figsize=(15,6))\n",
    "\n",
    "plt.subplot(1, 2, 1)\n",
    "sns.countplot(credit[credit[\"Class\"] == 0][\"Hour\"], color=\"blue\")\n",
    "plt.title(\"Number of non-fraudulent transactions, per hour\")\n",
    "plt.xticks(rotation=\"vertical\")\n",
    "\n",
    "plt.subplot(1, 2, 2)\n",
    "sns.countplot(credit[credit[\"Class\"] == 1][\"Hour\"], color=\"red\")\n",
    "plt.title(\"Number of fraudulent transactions, per hour\")\n",
    "plt.xticks(rotation=\"vertical\")\n",
    "\n",
    "plt.show()"
   ]
  },
  {
   "cell_type": "code",
   "execution_count": 112,
   "metadata": {
    "ExecuteTime": {
     "end_time": "2019-05-19T15:21:53.982728Z",
     "start_time": "2019-05-19T15:21:53.969899Z"
    }
   },
   "outputs": [],
   "source": [
    "# Creating a categorical column depending on the time\n",
    "credit[\"Cat_time\"] = round(credit[\"Time\"] /3600 %24)"
   ]
  },
  {
   "cell_type": "code",
   "execution_count": 113,
   "metadata": {
    "ExecuteTime": {
     "end_time": "2019-05-19T15:21:54.514147Z",
     "start_time": "2019-05-19T15:21:54.509244Z"
    }
   },
   "outputs": [],
   "source": [
    "def time_it_up(x):\n",
    "    if x < 5:\n",
    "        return \"Early morning\"\n",
    "    elif x < 12:\n",
    "        return \"Morning\"\n",
    "    elif x < 20:\n",
    "        return \"Afternoon and evening\"\n",
    "    else:\n",
    "        return \"Early night\""
   ]
  },
  {
   "cell_type": "code",
   "execution_count": 114,
   "metadata": {
    "ExecuteTime": {
     "end_time": "2019-05-19T15:21:55.462054Z",
     "start_time": "2019-05-19T15:21:55.297610Z"
    }
   },
   "outputs": [],
   "source": [
    "credit[\"Cat_time\"] = credit[\"Cat_time\"].apply(lambda x: time_it_up(x))"
   ]
  },
  {
   "cell_type": "code",
   "execution_count": 115,
   "metadata": {
    "ExecuteTime": {
     "end_time": "2019-05-19T15:21:56.449261Z",
     "start_time": "2019-05-19T15:21:55.919149Z"
    }
   },
   "outputs": [
    {
     "data": {
      "image/png": "[encoded data removed]",
      "text/plain": [
       "<Figure size 1080x432 with 2 Axes>"
      ]
     },
     "metadata": {
      "needs_background": "light"
     },
     "output_type": "display_data"
    }
   ],
   "source": [
    "plt.figure(figsize=(15,6))\n",
    "\n",
    "plt.subplot(1, 2, 1)\n",
    "sns.countplot(credit[credit[\"Class\"] == 0][\"Cat_time\"], color=\"blue\")\n",
    "plt.title(\"Number of non-fraudulent transactions, depending on the time\")\n",
    "plt.xticks(rotation=45)\n",
    "\n",
    "plt.subplot(1, 2, 2)\n",
    "sns.countplot(credit[credit[\"Class\"] == 1][\"Cat_time\"], color=\"red\")\n",
    "plt.title(\"Number of fraudulent transactions, depending on the time\")\n",
    "plt.xticks(rotation=45)\n",
    "\n",
    "plt.show()"
   ]
  },
  {
   "cell_type": "markdown",
   "metadata": {},
   "source": [
    "## PCA & visualisation"
   ]
  },
  {
   "cell_type": "markdown",
   "metadata": {},
   "source": [
    "### Prep work : selecting & centering"
   ]
  },
  {
   "cell_type": "code",
   "execution_count": 116,
   "metadata": {
    "ExecuteTime": {
     "end_time": "2019-05-19T15:22:00.966396Z",
     "start_time": "2019-05-19T15:22:00.906210Z"
    }
   },
   "outputs": [],
   "source": [
    "pca_features = credit.drop([\"Time\", \"Class\", \"Amount_cat\", \"Cat_time\"], axis=1)\n",
    "y = credit[\"Class\"]"
   ]
  },
  {
   "cell_type": "code",
   "execution_count": 117,
   "metadata": {
    "ExecuteTime": {
     "end_time": "2019-05-19T15:22:02.817752Z",
     "start_time": "2019-05-19T15:22:02.549924Z"
    }
   },
   "outputs": [],
   "source": [
    "sc = StandardScaler()\n",
    "pca_scaled = sc.fit(pca_features).transform(pca_features)"
   ]
  },
  {
   "cell_type": "code",
   "execution_count": 118,
   "metadata": {
    "ExecuteTime": {
     "end_time": "2019-05-19T15:22:03.597910Z",
     "start_time": "2019-05-19T15:22:03.558032Z"
    }
   },
   "outputs": [],
   "source": [
    "pca_centered = pca_scaled - pca_scaled.mean()"
   ]
  },
  {
   "cell_type": "markdown",
   "metadata": {},
   "source": [
    "### Visualisation 2D"
   ]
  },
  {
   "cell_type": "code",
   "execution_count": 119,
   "metadata": {
    "ExecuteTime": {
     "end_time": "2019-05-19T15:22:10.309511Z",
     "start_time": "2019-05-19T15:22:09.128641Z"
    }
   },
   "outputs": [],
   "source": [
    "pca_2d = PCA(n_components=2)\n",
    "pca_2d_viz = pca_2d.fit(pca_centered).transform(pca_centered)"
   ]
  },
  {
   "cell_type": "code",
   "execution_count": 120,
   "metadata": {
    "ExecuteTime": {
     "end_time": "2019-05-19T15:22:11.908315Z",
     "start_time": "2019-05-19T15:22:10.710286Z"
    }
   },
   "outputs": [
    {
     "data": {
      "image/png": "[encoded data removed]",
      "text/plain": [
       "<Figure size 720x720 with 1 Axes>"
      ]
     },
     "metadata": {
      "needs_background": "light"
     },
     "output_type": "display_data"
    }
   ],
   "source": [
    "plt.figure(figsize=(10, 10))\n",
    "\n",
    "plt.plot(pca_2d_viz[y == 0,0], pca_2d_viz[y == 0,1], 'o', c='blue', label=\"Non-fraudulent\")\n",
    "plt.plot(pca_2d_viz[y == 1,0], pca_2d_viz[y == 1,1], 'o', c='red', label=\"Fraudulent\")\n",
    "plt.legend(loc=0)\n",
    "\n",
    "plt.show()\n"
   ]
  },
  {
   "cell_type": "code",
   "execution_count": 121,
   "metadata": {
    "ExecuteTime": {
     "end_time": "2019-05-19T15:22:13.314751Z",
     "start_time": "2019-05-19T15:22:13.309553Z"
    }
   },
   "outputs": [
    {
     "data": {
      "text/plain": [
       "0.11559014445894712"
      ]
     },
     "execution_count": 121,
     "metadata": {},
     "output_type": "execute_result"
    }
   ],
   "source": [
    "pca_2d.explained_variance_ratio_.sum()"
   ]
  },
  {
   "cell_type": "markdown",
   "metadata": {},
   "source": [
    "### Visualisation 3D"
   ]
  },
  {
   "cell_type": "code",
   "execution_count": 122,
   "metadata": {
    "ExecuteTime": {
     "end_time": "2019-05-19T15:22:16.952365Z",
     "start_time": "2019-05-19T15:22:15.952508Z"
    }
   },
   "outputs": [],
   "source": [
    "pca_3d = PCA(n_components=3)\n",
    "pca_3d_viz = pca_3d.fit(pca_centered).transform(pca_centered)"
   ]
  },
  {
   "cell_type": "code",
   "execution_count": 123,
   "metadata": {
    "ExecuteTime": {
     "end_time": "2019-05-19T15:22:18.938577Z",
     "start_time": "2019-05-19T15:22:17.651806Z"
    }
   },
   "outputs": [
    {
     "data": {
      "image/png": "[encoded data removed]",
      "text/plain": [
       "<Figure size 720x720 with 1 Axes>"
      ]
     },
     "metadata": {
      "needs_background": "light"
     },
     "output_type": "display_data"
    }
   ],
   "source": [
    "# Let's create a 3d-plot\n",
    "\n",
    "fig = plt.figure(figsize=(10,10))\n",
    "ax = fig.add_subplot(111, projection='3d')\n",
    "\n",
    "# Then we plot the results of PCA\n",
    "plt.plot(pca_3d_viz[y == 0, 0], pca_3d_viz[y == 0, 1], pca_3d_viz[y == 0, 2],  'o', c='blue', label='Non Fraudulent')\n",
    "plt.plot(pca_3d_viz[y == 1, 0], pca_3d_viz[y == 1, 1], pca_3d_viz[y == 1, 2], 'o', c='red', label='Fraudulent')\n",
    "plt.legend(loc=0)\n",
    "plt.title('PCA projection')\n",
    "\n",
    "plt.show()"
   ]
  },
  {
   "cell_type": "code",
   "execution_count": 124,
   "metadata": {
    "ExecuteTime": {
     "end_time": "2019-05-19T15:22:20.869785Z",
     "start_time": "2019-05-19T15:22:20.864145Z"
    }
   },
   "outputs": [
    {
     "data": {
      "text/plain": [
       "0.14795944711872783"
      ]
     },
     "execution_count": 124,
     "metadata": {},
     "output_type": "execute_result"
    }
   ],
   "source": [
    "pca_3d.explained_variance_ratio_.sum()"
   ]
  },
  {
   "cell_type": "markdown",
   "metadata": {},
   "source": [
    "The PCA projections are not really informative in this case, as the fraudulent transactions do not seem to form a distinct cluster from the normal transactions."
   ]
  },
  {
   "cell_type": "markdown",
   "metadata": {},
   "source": [
    "# Machine learning"
   ]
  },
  {
   "cell_type": "markdown",
   "metadata": {},
   "source": [
    "## Data prep : get those dummies"
   ]
  },
  {
   "cell_type": "markdown",
   "metadata": {},
   "source": [
    "I want to be able to use my newly created categorical columns when making predictions."
   ]
  },
  {
   "cell_type": "code",
   "execution_count": 125,
   "metadata": {
    "ExecuteTime": {
     "end_time": "2019-05-19T15:22:36.255899Z",
     "start_time": "2019-05-19T15:22:36.067539Z"
    }
   },
   "outputs": [],
   "source": [
    "credit_dummies = pd.get_dummies(credit, drop_first=True)"
   ]
  },
  {
   "cell_type": "code",
   "execution_count": 126,
   "metadata": {
    "ExecuteTime": {
     "end_time": "2019-05-19T15:22:36.829783Z",
     "start_time": "2019-05-19T15:22:36.799867Z"
    }
   },
   "outputs": [
    {
     "data": {
      "text/html": [
       "<div>\n",
       "<style scoped>\n",
       "    .dataframe tbody tr th:only-of-type {\n",
       "        vertical-align: middle;\n",
       "    }\n",
       "\n",
       "    .dataframe tbody tr th {\n",
       "        vertical-align: top;\n",
       "    }\n",
       "\n",
       "    .dataframe thead th {\n",
       "        text-align: right;\n",
       "    }\n",
       "</style>\n",
       "<table border=\"1\" class=\"dataframe\">\n",
       "  <thead>\n",
       "    <tr style=\"text-align: right;\">\n",
       "      <th></th>\n",
       "      <th>Time</th>\n",
       "      <th>V1</th>\n",
       "      <th>V2</th>\n",
       "      <th>V3</th>\n",
       "      <th>V4</th>\n",
       "      <th>V5</th>\n",
       "      <th>V6</th>\n",
       "      <th>V7</th>\n",
       "      <th>V8</th>\n",
       "      <th>V9</th>\n",
       "      <th>...</th>\n",
       "      <th>Amount</th>\n",
       "      <th>Class</th>\n",
       "      <th>Hour</th>\n",
       "      <th>Amount_cat_Amount less than 10$</th>\n",
       "      <th>Amount_cat_Amount less than 1000$</th>\n",
       "      <th>Amount_cat_Amount less than 2000$</th>\n",
       "      <th>Amount_cat_High amount</th>\n",
       "      <th>Cat_time_Early morning</th>\n",
       "      <th>Cat_time_Early night</th>\n",
       "      <th>Cat_time_Morning</th>\n",
       "    </tr>\n",
       "  </thead>\n",
       "  <tbody>\n",
       "    <tr>\n",
       "      <th>0</th>\n",
       "      <td>0.0</td>\n",
       "      <td>-1.359807</td>\n",
       "      <td>-0.072781</td>\n",
       "      <td>2.536347</td>\n",
       "      <td>1.378155</td>\n",
       "      <td>-0.338321</td>\n",
       "      <td>0.462388</td>\n",
       "      <td>0.239599</td>\n",
       "      <td>0.098698</td>\n",
       "      <td>0.363787</td>\n",
       "      <td>...</td>\n",
       "      <td>149.62</td>\n",
       "      <td>0</td>\n",
       "      <td>0.0</td>\n",
       "      <td>0</td>\n",
       "      <td>1</td>\n",
       "      <td>0</td>\n",
       "      <td>0</td>\n",
       "      <td>1</td>\n",
       "      <td>0</td>\n",
       "      <td>0</td>\n",
       "    </tr>\n",
       "    <tr>\n",
       "      <th>1</th>\n",
       "      <td>0.0</td>\n",
       "      <td>1.191857</td>\n",
       "      <td>0.266151</td>\n",
       "      <td>0.166480</td>\n",
       "      <td>0.448154</td>\n",
       "      <td>0.060018</td>\n",
       "      <td>-0.082361</td>\n",
       "      <td>-0.078803</td>\n",
       "      <td>0.085102</td>\n",
       "      <td>-0.255425</td>\n",
       "      <td>...</td>\n",
       "      <td>2.69</td>\n",
       "      <td>0</td>\n",
       "      <td>0.0</td>\n",
       "      <td>1</td>\n",
       "      <td>0</td>\n",
       "      <td>0</td>\n",
       "      <td>0</td>\n",
       "      <td>1</td>\n",
       "      <td>0</td>\n",
       "      <td>0</td>\n",
       "    </tr>\n",
       "  </tbody>\n",
       "</table>\n",
       "<p>2 rows × 39 columns</p>\n",
       "</div>"
      ],
      "text/plain": [
       "   Time        V1        V2        V3        V4        V5        V6        V7  \\\n",
       "0   0.0 -1.359807 -0.072781  2.536347  1.378155 -0.338321  0.462388  0.239599   \n",
       "1   0.0  1.191857  0.266151  0.166480  0.448154  0.060018 -0.082361 -0.078803   \n",
       "\n",
       "         V8        V9        ...         Amount  Class  Hour  \\\n",
       "0  0.098698  0.363787        ...         149.62      0   0.0   \n",
       "1  0.085102 -0.255425        ...           2.69      0   0.0   \n",
       "\n",
       "   Amount_cat_Amount less than 10$  Amount_cat_Amount less than 1000$  \\\n",
       "0                                0                                  1   \n",
       "1                                1                                  0   \n",
       "\n",
       "   Amount_cat_Amount less than 2000$  Amount_cat_High amount  \\\n",
       "0                                  0                       0   \n",
       "1                                  0                       0   \n",
       "\n",
       "   Cat_time_Early morning  Cat_time_Early night  Cat_time_Morning  \n",
       "0                       1                     0                 0  \n",
       "1                       1                     0                 0  \n",
       "\n",
       "[2 rows x 39 columns]"
      ]
     },
     "execution_count": 126,
     "metadata": {},
     "output_type": "execute_result"
    }
   ],
   "source": [
    "credit_dummies.head(n=2)"
   ]
  },
  {
   "cell_type": "markdown",
   "metadata": {},
   "source": [
    "## Preparing & splitting X and y"
   ]
  },
  {
   "cell_type": "code",
   "execution_count": 127,
   "metadata": {
    "ExecuteTime": {
     "end_time": "2019-05-19T15:22:38.315793Z",
     "start_time": "2019-05-19T15:22:38.185975Z"
    }
   },
   "outputs": [],
   "source": [
    "y = credit_dummies[\"Class\"]\n",
    "X = credit_dummies.drop([\"Class\", \"Time\"], axis=1)"
   ]
  },
  {
   "cell_type": "code",
   "execution_count": 128,
   "metadata": {
    "ExecuteTime": {
     "end_time": "2019-05-19T15:22:39.344304Z",
     "start_time": "2019-05-19T15:22:38.978078Z"
    }
   },
   "outputs": [],
   "source": [
    "X_scaled = sc.fit(X).transform(X)"
   ]
  },
  {
   "cell_type": "code",
   "execution_count": 129,
   "metadata": {
    "ExecuteTime": {
     "end_time": "2019-05-19T15:22:40.165756Z",
     "start_time": "2019-05-19T15:22:39.968417Z"
    }
   },
   "outputs": [],
   "source": [
    "X_train, X_test, y_train, y_test = train_test_split(X_scaled, y, test_size=0.2, random_state=0)"
   ]
  },
  {
   "cell_type": "markdown",
   "metadata": {},
   "source": [
    "## Testing : LightGBM"
   ]
  },
  {
   "cell_type": "markdown",
   "metadata": {},
   "source": [
    "**What is LightGBM ?**\n",
    "Light GBM is a gradient boosting framework that uses tree based learning algorithm.\n",
    "\n",
    "**Why did I choose LightGBM ?**\n",
    "- LightGBM is an algorithm that works well on large datasets, such as the one I'm currently working on (almost 300 000 rows x 39 columns.\n",
    "- It is also relatively good at handling imbalanced data, although the level of imbalance in this dataset (99,8% of class 0 vs 0,17% of class 1) might prove too much for it to handle. Resampling is probably necessary, although I will still try to run the model on the data as it is before using any resampling method. "
   ]
  },
  {
   "cell_type": "markdown",
   "metadata": {},
   "source": [
    "### Hyperparameter optimization"
   ]
  },
  {
   "cell_type": "markdown",
   "metadata": {},
   "source": [
    "I am tuning the parameters max_depth, learning_rate, reg_alpha and reg_lambda."
   ]
  },
  {
   "cell_type": "code",
   "execution_count": 143,
   "metadata": {
    "ExecuteTime": {
     "end_time": "2019-05-18T12:44:16.404379Z",
     "start_time": "2019-05-18T12:40:44.586397Z"
    }
   },
   "outputs": [
    {
     "data": {
      "text/plain": [
       "GridSearchCV(cv=3, error_score='raise-deprecating',\n",
       "       estimator=LGBMClassifier(boosting_type='gbdt', class_weight=None, colsample_bytree=1.0,\n",
       "        importance_type='split', learning_rate=0.1, max_depth=-1,\n",
       "        min_child_samples=20, min_child_weight=0.001, min_split_gain=0.0,\n",
       "        n_estimators=100, n_jobs=-1, num_leaves=31, objective=None,\n",
       "        random_state=None, reg_alpha=0.0, reg_lambda=0.0, silent=True,\n",
       "        subsample=1.0, subsample_for_bin=200000, subsample_freq=0),\n",
       "       fit_params=None, iid='warn', n_jobs=None,\n",
       "       param_grid={'max_depth': [5, 10, 20], 'learning_rate': [0.1, 0.01], 'reg_alpha': [0.2, 0.3], 'reg_lambda': [0.4, 0.5]},\n",
       "       pre_dispatch='2*n_jobs', refit=True, return_train_score='warn',\n",
       "       scoring=None, verbose=0)"
      ]
     },
     "execution_count": 143,
     "metadata": {},
     "output_type": "execute_result"
    }
   ],
   "source": [
    "param_grid = {\n",
    "    'max_depth' : [5, 10, 20],\n",
    "    'learning_rate' : [0.1, 0.01],\n",
    "    'reg_alpha' : [0.2, 0.3],\n",
    "    'reg_lambda' : [0.4, 0.5]\n",
    "}\n",
    "\n",
    "clf = lgb.LGBMClassifier()\n",
    "clf = GridSearchCV(clf,\n",
    "                   param_grid,\n",
    "                   cv=3,\n",
    "                  )\n",
    "\n",
    "clf.fit(X_train, y_train)"
   ]
  },
  {
   "cell_type": "code",
   "execution_count": 144,
   "metadata": {
    "ExecuteTime": {
     "end_time": "2019-05-18T12:47:34.411864Z",
     "start_time": "2019-05-18T12:47:34.404940Z"
    }
   },
   "outputs": [
    {
     "data": {
      "text/plain": [
       "{'learning_rate': 0.1, 'max_depth': 10, 'reg_alpha': 0.3, 'reg_lambda': 0.5}"
      ]
     },
     "execution_count": 144,
     "metadata": {},
     "output_type": "execute_result"
    }
   ],
   "source": [
    "clf.best_params_"
   ]
  },
  {
   "cell_type": "markdown",
   "metadata": {},
   "source": [
    "### With no resampling"
   ]
  },
  {
   "cell_type": "markdown",
   "metadata": {},
   "source": [
    "#### Testing"
   ]
  },
  {
   "cell_type": "code",
   "execution_count": 130,
   "metadata": {
    "ExecuteTime": {
     "end_time": "2019-05-19T15:22:52.172151Z",
     "start_time": "2019-05-19T15:22:48.408188Z"
    }
   },
   "outputs": [],
   "source": [
    "lg = lgb.LGBMClassifier(max_depth = 10, learning_rate = 0.1, reg_alpha = 0.3,\n",
    "                       reg_lambda = 0.5)\n",
    "lg.fit(X_train, y_train)\n",
    "y_pred_lg = lg.predict(X_test)"
   ]
  },
  {
   "cell_type": "code",
   "execution_count": 131,
   "metadata": {
    "ExecuteTime": {
     "end_time": "2019-05-19T15:22:52.956323Z",
     "start_time": "2019-05-19T15:22:52.893940Z"
    },
    "scrolled": true
   },
   "outputs": [
    {
     "name": "stdout",
     "output_type": "stream",
     "text": [
      "              precision    recall  f1-score   support\n",
      "\n",
      "           0       1.00      1.00      1.00     56861\n",
      "           1       0.91      0.79      0.85       101\n",
      "\n",
      "   micro avg       1.00      1.00      1.00     56962\n",
      "   macro avg       0.95      0.90      0.92     56962\n",
      "weighted avg       1.00      1.00      1.00     56962\n",
      "\n"
     ]
    }
   ],
   "source": [
    "print(classification_report(y_test, y_pred_lg))"
   ]
  },
  {
   "cell_type": "markdown",
   "metadata": {},
   "source": [
    "#### Eval with AUPRC = area under the precision-recall curve"
   ]
  },
  {
   "cell_type": "code",
   "execution_count": 132,
   "metadata": {
    "ExecuteTime": {
     "end_time": "2019-05-19T15:23:00.170719Z",
     "start_time": "2019-05-19T15:23:00.165391Z"
    }
   },
   "outputs": [],
   "source": [
    "def auprc(y_true, y_pred, plot=False):\n",
    "    \n",
    "    \"\"\"A function that returns the area under the precision-recall curve (AUPRC) score of the model.\n",
    "    \n",
    "    Inputs\n",
    "    -----------\n",
    "    > y_true : the labels of the test set.\n",
    "    > y_pred : the predicted labels, in probability form\n",
    "    > plot : wether to print the precision-recall curve plot. Default=False\"\"\"\n",
    "    \n",
    "    precision, recall, thresholds = precision_recall_curve(y_true, y_pred[:,1])\n",
    "    if plot == True:\n",
    "        print(plt.plot(recall, precision), plt.title('Precision-Recall Curve'))\n",
    "    return auc(recall, precision)"
   ]
  },
  {
   "cell_type": "code",
   "execution_count": 133,
   "metadata": {
    "ExecuteTime": {
     "end_time": "2019-05-19T15:23:05.030952Z",
     "start_time": "2019-05-19T15:23:04.522239Z"
    }
   },
   "outputs": [
    {
     "name": "stdout",
     "output_type": "stream",
     "text": [
      "[<matplotlib.lines.Line2D object at 0x1a248594e0>] Text(0.5, 1.0, 'Precision-Recall Curve')\n"
     ]
    },
    {
     "data": {
      "text/plain": [
       "0.8272726080721886"
      ]
     },
     "execution_count": 133,
     "metadata": {},
     "output_type": "execute_result"
    },
    {
     "data": {
      "image/png": "[encoded data removed]",
      "text/plain": [
       "<Figure size 432x288 with 1 Axes>"
      ]
     },
     "metadata": {
      "needs_background": "light"
     },
     "output_type": "display_data"
    }
   ],
   "source": [
    "y_pred_proba_lg = lg.predict_proba(X_test)\n",
    "auprc(y_test, y_pred_proba_lg, plot=True)"
   ]
  },
  {
   "cell_type": "markdown",
   "metadata": {},
   "source": [
    "Even without resampling, LightGBM performs well ; but its performance could be optimized by either oversampling or undersampling the data."
   ]
  },
  {
   "cell_type": "markdown",
   "metadata": {},
   "source": [
    "### With oversampling : SMOTE"
   ]
  },
  {
   "cell_type": "code",
   "execution_count": 134,
   "metadata": {
    "ExecuteTime": {
     "end_time": "2019-05-19T15:23:23.171239Z",
     "start_time": "2019-05-19T15:23:23.021646Z"
    }
   },
   "outputs": [],
   "source": [
    "X_train_os, y_train_os = SMOTE(sampling_strategy=0.01, k_neighbors=5, \n",
    "                               random_state=1).fit_resample(X_train, y_train)"
   ]
  },
  {
   "cell_type": "markdown",
   "metadata": {},
   "source": [
    "I'm resampling with a ratio of 99% of class 0 (Non-fraudulous) and 1% of class 1 (Fraudulous), hence the parameter sampling_startegy set to 0.01.\n",
    "\n",
    "> Note that the SMOTE should only be applied to the train set, not the test set."
   ]
  },
  {
   "cell_type": "code",
   "execution_count": 135,
   "metadata": {
    "ExecuteTime": {
     "end_time": "2019-05-19T15:23:24.434914Z",
     "start_time": "2019-05-19T15:23:24.369578Z"
    }
   },
   "outputs": [
    {
     "data": {
      "text/plain": [
       "Counter({0: 227454, 1: 2274})"
      ]
     },
     "execution_count": 135,
     "metadata": {},
     "output_type": "execute_result"
    }
   ],
   "source": [
    "Counter(y_train_os)"
   ]
  },
  {
   "cell_type": "code",
   "execution_count": 136,
   "metadata": {
    "ExecuteTime": {
     "end_time": "2019-05-19T15:23:29.483986Z",
     "start_time": "2019-05-19T15:23:25.135231Z"
    }
   },
   "outputs": [],
   "source": [
    "lg_SMOTE = lgb.LGBMClassifier(max_depth = 10, learning_rate = 0.1, reg_alpha = 0.3,\n",
    "                       reg_lambda = 0.5)\n",
    "lg_SMOTE.fit(X_train_os, y_train_os)\n",
    "y_pred_os = lg_SMOTE.predict(X_test)"
   ]
  },
  {
   "cell_type": "code",
   "execution_count": 137,
   "metadata": {
    "ExecuteTime": {
     "end_time": "2019-05-19T15:23:30.234282Z",
     "start_time": "2019-05-19T15:23:30.167997Z"
    }
   },
   "outputs": [
    {
     "name": "stdout",
     "output_type": "stream",
     "text": [
      "              precision    recall  f1-score   support\n",
      "\n",
      "           0       1.00      1.00      1.00     56861\n",
      "           1       0.90      0.82      0.86       101\n",
      "\n",
      "   micro avg       1.00      1.00      1.00     56962\n",
      "   macro avg       0.95      0.91      0.93     56962\n",
      "weighted avg       1.00      1.00      1.00     56962\n",
      "\n"
     ]
    }
   ],
   "source": [
    "print(classification_report(y_test, y_pred_os))"
   ]
  },
  {
   "cell_type": "markdown",
   "metadata": {},
   "source": [
    "#### Eval with AUPRC = area under the precision-recall curve"
   ]
  },
  {
   "cell_type": "code",
   "execution_count": 138,
   "metadata": {
    "ExecuteTime": {
     "end_time": "2019-05-19T15:23:32.369649Z",
     "start_time": "2019-05-19T15:23:32.105926Z"
    }
   },
   "outputs": [],
   "source": [
    "y_pred_proba_smote = lg_SMOTE.predict_proba(X_test)"
   ]
  },
  {
   "cell_type": "code",
   "execution_count": 139,
   "metadata": {
    "ExecuteTime": {
     "end_time": "2019-05-19T15:23:33.444038Z",
     "start_time": "2019-05-19T15:23:33.232191Z"
    }
   },
   "outputs": [
    {
     "name": "stdout",
     "output_type": "stream",
     "text": [
      "[<matplotlib.lines.Line2D object at 0x1a25773fd0>] Text(0.5, 1.0, 'Precision-Recall Curve')\n"
     ]
    },
    {
     "data": {
      "text/plain": [
       "0.8706218824713"
      ]
     },
     "execution_count": 139,
     "metadata": {},
     "output_type": "execute_result"
    },
    {
     "data": {
      "image/png": "[encoded data removed]",
      "text/plain": [
       "<Figure size 432x288 with 1 Axes>"
      ]
     },
     "metadata": {
      "needs_background": "light"
     },
     "output_type": "display_data"
    }
   ],
   "source": [
    "auprc(y_test, y_pred_proba_smote, plot=True)"
   ]
  },
  {
   "cell_type": "markdown",
   "metadata": {},
   "source": [
    "Oversampling does improve the performance of the model, which now performs better at detecting the fraudulent transctions, despite their low number over the total volume of transactions."
   ]
  },
  {
   "cell_type": "markdown",
   "metadata": {},
   "source": [
    "### With undersampling : RandomUnderSampler"
   ]
  },
  {
   "cell_type": "code",
   "execution_count": 140,
   "metadata": {
    "ExecuteTime": {
     "end_time": "2019-05-19T15:23:47.424781Z",
     "start_time": "2019-05-19T15:23:47.320085Z"
    }
   },
   "outputs": [],
   "source": [
    "rus = RandomUnderSampler(random_state=1, sampling_strategy=0.01)\n",
    "X_us, y_us = rus.fit_resample(X_train, y_train)"
   ]
  },
  {
   "cell_type": "markdown",
   "metadata": {},
   "source": [
    "Just like with the oversampling strategy, I am here keeping a ratio of 99% to 1% of non-fraudulent vs fraudulent transcations."
   ]
  },
  {
   "cell_type": "code",
   "execution_count": 141,
   "metadata": {
    "ExecuteTime": {
     "end_time": "2019-05-19T15:23:48.757057Z",
     "start_time": "2019-05-19T15:23:48.740782Z"
    }
   },
   "outputs": [
    {
     "data": {
      "text/plain": [
       "Counter({0: 39100, 1: 391})"
      ]
     },
     "execution_count": 141,
     "metadata": {},
     "output_type": "execute_result"
    }
   ],
   "source": [
    "Counter(y_us)"
   ]
  },
  {
   "cell_type": "code",
   "execution_count": 142,
   "metadata": {
    "ExecuteTime": {
     "end_time": "2019-05-19T15:23:50.935348Z",
     "start_time": "2019-05-19T15:23:49.645464Z"
    }
   },
   "outputs": [],
   "source": [
    "lg_rus = lgb.LGBMClassifier(max_depth = 10, learning_rate = 0.1, reg_alpha = 0.3,\n",
    "                       reg_lambda = 0.5)\n",
    "lg_rus.fit(X_us, y_us)\n",
    "y_pred_us = lg_rus.predict(X_test)"
   ]
  },
  {
   "cell_type": "code",
   "execution_count": 143,
   "metadata": {
    "ExecuteTime": {
     "end_time": "2019-05-19T15:23:51.669897Z",
     "start_time": "2019-05-19T15:23:51.607357Z"
    }
   },
   "outputs": [
    {
     "name": "stdout",
     "output_type": "stream",
     "text": [
      "              precision    recall  f1-score   support\n",
      "\n",
      "           0       1.00      1.00      1.00     56861\n",
      "           1       0.79      0.86      0.82       101\n",
      "\n",
      "   micro avg       1.00      1.00      1.00     56962\n",
      "   macro avg       0.90      0.93      0.91     56962\n",
      "weighted avg       1.00      1.00      1.00     56962\n",
      "\n"
     ]
    }
   ],
   "source": [
    "print(classification_report(y_test, y_pred_us))"
   ]
  },
  {
   "cell_type": "markdown",
   "metadata": {},
   "source": [
    "#### Eval with AUPRC"
   ]
  },
  {
   "cell_type": "code",
   "execution_count": 144,
   "metadata": {
    "ExecuteTime": {
     "end_time": "2019-05-19T15:23:53.211868Z",
     "start_time": "2019-05-19T15:23:52.935705Z"
    }
   },
   "outputs": [],
   "source": [
    "y_pred_proba_us = lg_rus.predict_proba(X_test)"
   ]
  },
  {
   "cell_type": "code",
   "execution_count": 145,
   "metadata": {
    "ExecuteTime": {
     "end_time": "2019-05-19T15:23:54.137471Z",
     "start_time": "2019-05-19T15:23:53.936389Z"
    }
   },
   "outputs": [
    {
     "name": "stdout",
     "output_type": "stream",
     "text": [
      "[<matplotlib.lines.Line2D object at 0x1a24de4198>] Text(0.5, 1.0, 'Precision-Recall Curve')\n"
     ]
    },
    {
     "data": {
      "text/plain": [
       "0.8552520158076375"
      ]
     },
     "execution_count": 145,
     "metadata": {},
     "output_type": "execute_result"
    },
    {
     "data": {
      "image/png": "[encoded data removed]",
      "text/plain": [
       "<Figure size 432x288 with 1 Axes>"
      ]
     },
     "metadata": {
      "needs_background": "light"
     },
     "output_type": "display_data"
    }
   ],
   "source": [
    "auprc(y_test, y_pred_proba_us, plot=True)"
   ]
  },
  {
   "cell_type": "markdown",
   "metadata": {},
   "source": [
    "Undersampling does improve the performance of the model, although not as much as oversampling."
   ]
  },
  {
   "cell_type": "markdown",
   "metadata": {},
   "source": [
    "### Recap LightGBM"
   ]
  },
  {
   "cell_type": "code",
   "execution_count": 146,
   "metadata": {
    "ExecuteTime": {
     "end_time": "2019-05-19T15:23:56.377082Z",
     "start_time": "2019-05-19T15:23:56.328623Z"
    }
   },
   "outputs": [],
   "source": [
    "results = pd.DataFrame([[\"LGBM, no resampling\", auprc(y_test, y_pred_proba_lg)],\n",
    "                       [\"LGBM + oversampling\", auprc(y_test, y_pred_proba_smote)],\n",
    "                       [\"LGBM + undersampling\", auprc(y_test, y_pred_proba_us)]],\n",
    "               columns = [\"Model\", \"Area Under the Precision-Recall Curve\"])"
   ]
  },
  {
   "cell_type": "code",
   "execution_count": 147,
   "metadata": {
    "ExecuteTime": {
     "end_time": "2019-05-19T15:23:57.124563Z",
     "start_time": "2019-05-19T15:23:57.113486Z"
    }
   },
   "outputs": [
    {
     "data": {
      "text/html": [
       "<div>\n",
       "<style scoped>\n",
       "    .dataframe tbody tr th:only-of-type {\n",
       "        vertical-align: middle;\n",
       "    }\n",
       "\n",
       "    .dataframe tbody tr th {\n",
       "        vertical-align: top;\n",
       "    }\n",
       "\n",
       "    .dataframe thead th {\n",
       "        text-align: right;\n",
       "    }\n",
       "</style>\n",
       "<table border=\"1\" class=\"dataframe\">\n",
       "  <thead>\n",
       "    <tr style=\"text-align: right;\">\n",
       "      <th></th>\n",
       "      <th>Model</th>\n",
       "      <th>Area Under the Precision-Recall Curve</th>\n",
       "    </tr>\n",
       "  </thead>\n",
       "  <tbody>\n",
       "    <tr>\n",
       "      <th>0</th>\n",
       "      <td>LGBM, no resampling</td>\n",
       "      <td>0.827273</td>\n",
       "    </tr>\n",
       "    <tr>\n",
       "      <th>1</th>\n",
       "      <td>LGBM + oversampling</td>\n",
       "      <td>0.870622</td>\n",
       "    </tr>\n",
       "    <tr>\n",
       "      <th>2</th>\n",
       "      <td>LGBM + undersampling</td>\n",
       "      <td>0.855252</td>\n",
       "    </tr>\n",
       "  </tbody>\n",
       "</table>\n",
       "</div>"
      ],
      "text/plain": [
       "                  Model  Area Under the Precision-Recall Curve\n",
       "0   LGBM, no resampling                               0.827273\n",
       "1   LGBM + oversampling                               0.870622\n",
       "2  LGBM + undersampling                               0.855252"
      ]
     },
     "execution_count": 147,
     "metadata": {},
     "output_type": "execute_result"
    }
   ],
   "source": [
    "results"
   ]
  },
  {
   "cell_type": "markdown",
   "metadata": {},
   "source": [
    "In this case, the SMOTE (oversampling) strategy seems to be the best one for dealing with this particular problem."
   ]
  },
  {
   "cell_type": "markdown",
   "metadata": {},
   "source": [
    "## Outlier detection with Local Outlier Factor"
   ]
  },
  {
   "cell_type": "markdown",
   "metadata": {},
   "source": [
    "In this case, we have data with associated labels, hence we can used ***supervised learning*** algorithms. When you have labelled data, it is always better to use supervised machine learning, as those algorithm usually perform better.\n",
    "\n",
    "\n",
    "But let's make a hypothesis : what if the data came unlabelled ? What if I wanted to create a new banking company and wanted to be able to detect fraudulent transactions even before being able to compile a transactions dataset with labellized data ?\n",
    "\n",
    "Thankfully, there are options to detect anomalies in a ***unsupervised learning*** setting. Here, I will be using the **LOF (Local Outlier Factor) algorithm**, which detects outliers in a dataset."
   ]
  },
  {
   "cell_type": "markdown",
   "metadata": {},
   "source": [
    "There are two possible uses of the LOF algorithm : \n",
    "- you can fit_predict it on your dataset as it is, e.g. containing outliers, and have it detect those ;\n",
    "- or you can fit it on a \"normal\" set of data, e.g. a set containing no outliers, and have it predict the outliers on a new set."
   ]
  },
  {
   "cell_type": "markdown",
   "metadata": {},
   "source": [
    "### First use : novelty=False"
   ]
  },
  {
   "cell_type": "markdown",
   "metadata": {},
   "source": [
    "I'm gonna work on a 1/10 subset of the data, as the LOF algorithm takes too long to run on my computer otherwise."
   ]
  },
  {
   "cell_type": "code",
   "execution_count": 148,
   "metadata": {
    "ExecuteTime": {
     "end_time": "2019-05-19T15:24:13.764958Z",
     "start_time": "2019-05-19T15:24:13.723379Z"
    }
   },
   "outputs": [],
   "source": [
    "subset = credit_dummies.sample(n=len(credit_dummies)//10)\n",
    "X_subset = subset.drop([\"Class\", \"Time\"], axis=1)\n",
    "y_subset = subset[\"Class\"]"
   ]
  },
  {
   "cell_type": "code",
   "execution_count": 149,
   "metadata": {
    "ExecuteTime": {
     "end_time": "2019-05-19T15:24:14.702344Z",
     "start_time": "2019-05-19T15:24:14.695513Z"
    }
   },
   "outputs": [
    {
     "data": {
      "text/plain": [
       "((28480, 37), (28480,))"
      ]
     },
     "execution_count": 149,
     "metadata": {},
     "output_type": "execute_result"
    }
   ],
   "source": [
    "X_subset.shape, y_subset.shape"
   ]
  },
  {
   "cell_type": "code",
   "execution_count": 150,
   "metadata": {
    "ExecuteTime": {
     "end_time": "2019-05-19T15:24:26.488157Z",
     "start_time": "2019-05-19T15:24:15.521917Z"
    }
   },
   "outputs": [],
   "source": [
    "lof = LocalOutlierFactor(n_neighbors=30, contamination=0.0020, novelty=False)\n",
    "y_pred_LOF_1 = lof.fit_predict(X_subset)"
   ]
  },
  {
   "cell_type": "code",
   "execution_count": 151,
   "metadata": {
    "ExecuteTime": {
     "end_time": "2019-05-19T15:24:27.383913Z",
     "start_time": "2019-05-19T15:24:27.368146Z"
    }
   },
   "outputs": [
    {
     "data": {
      "text/plain": [
       "Counter({1: 28423, -1: 57})"
      ]
     },
     "execution_count": 151,
     "metadata": {},
     "output_type": "execute_result"
    }
   ],
   "source": [
    "Counter(y_pred_LOF_1)"
   ]
  },
  {
   "cell_type": "markdown",
   "metadata": {},
   "source": [
    "There's a problem : the LOF algorithm classified the data in two classes -1 and 1 ; going from how many observation were classified in each class, I infer that this new class 1 corresponds to the class 0, and the new class -1 is the class 1. I need to transform those values in order to test the performance of the algorithm."
   ]
  },
  {
   "cell_type": "code",
   "execution_count": 152,
   "metadata": {
    "ExecuteTime": {
     "end_time": "2019-05-19T15:24:29.894585Z",
     "start_time": "2019-05-19T15:24:29.889528Z"
    }
   },
   "outputs": [],
   "source": [
    "y_pred_LOF_1 = np.where(np.where(y_pred_LOF_1==1, 0, y_pred_LOF_1)==-1, 1, np.where(y_pred_LOF_1==1, 0, y_pred_LOF_1))\n"
   ]
  },
  {
   "cell_type": "code",
   "execution_count": 153,
   "metadata": {
    "ExecuteTime": {
     "end_time": "2019-05-19T15:24:30.774219Z",
     "start_time": "2019-05-19T15:24:30.759555Z"
    }
   },
   "outputs": [
    {
     "data": {
      "text/plain": [
       "Counter({0: 28423, 1: 57})"
      ]
     },
     "execution_count": 153,
     "metadata": {},
     "output_type": "execute_result"
    }
   ],
   "source": [
    "Counter(y_pred_LOF_1)"
   ]
  },
  {
   "cell_type": "code",
   "execution_count": 154,
   "metadata": {
    "ExecuteTime": {
     "end_time": "2019-05-19T15:24:31.718122Z",
     "start_time": "2019-05-19T15:24:31.691430Z"
    }
   },
   "outputs": [
    {
     "name": "stdout",
     "output_type": "stream",
     "text": [
      "              precision    recall  f1-score   support\n",
      "\n",
      "           0       1.00      1.00      1.00     28435\n",
      "           1       0.39      0.49      0.43        45\n",
      "\n",
      "   micro avg       1.00      1.00      1.00     28480\n",
      "   macro avg       0.69      0.74      0.72     28480\n",
      "weighted avg       1.00      1.00      1.00     28480\n",
      "\n"
     ]
    }
   ],
   "source": [
    "print(classification_report(y_subset, y_pred_LOF_1))"
   ]
  },
  {
   "cell_type": "markdown",
   "metadata": {},
   "source": [
    "The LOF model, when used with the novelty=False parameter, does not perform extremely well at detecting outliers."
   ]
  },
  {
   "cell_type": "markdown",
   "metadata": {},
   "source": [
    "### Second use : novelty=True"
   ]
  },
  {
   "cell_type": "markdown",
   "metadata": {},
   "source": [
    "The data subsetting must be different when using LOF in this way, as the data on which the algorith will be fitted must be entirely \"normal\" data, e.g. without outliers. In this dataset, the outliers we want to detect are part of the class \"1\"."
   ]
  },
  {
   "cell_type": "code",
   "execution_count": 155,
   "metadata": {
    "ExecuteTime": {
     "end_time": "2019-05-19T15:24:38.917382Z",
     "start_time": "2019-05-19T15:24:38.704067Z"
    }
   },
   "outputs": [],
   "source": [
    "# Creating a train subset without outliers\n",
    "subset_no_outliers = credit_dummies[credit_dummies[\"Class\"] == 0].sample(n=len(credit_dummies[credit_dummies[\"Class\"] == 0])//10)\n",
    "X_no = subset_no_outliers.drop([\"Class\", \"Time\"], axis=1)\n",
    "y_no = subset_no_outliers[\"Class\"]"
   ]
  },
  {
   "cell_type": "code",
   "execution_count": 156,
   "metadata": {
    "ExecuteTime": {
     "end_time": "2019-05-19T15:24:39.990896Z",
     "start_time": "2019-05-19T15:24:39.887332Z"
    }
   },
   "outputs": [],
   "source": [
    "# Creating a test set containing outliers, to a ratio of 50% of non-outliers \n",
    "# and 50% of outliers (this arbitrary ratio serves to evaluate the performance of the model\n",
    "# at detecting outliers)\n",
    "\n",
    "subset_with_outliers = pd.concat([credit_dummies[credit_dummies[\"Class\"] == 1].sample(frac=1),\n",
    "                                  credit_dummies[credit_dummies[\"Class\"] == 0].sample(len(credit_dummies[credit_dummies[\"Class\"] == 1]))],\n",
    "                                 axis=0)\n",
    "                                  \n",
    "                                  \n",
    "X_wo = subset_with_outliers.drop([\"Class\", \"Time\"], axis=1)\n",
    "y_wo = subset_with_outliers[\"Class\"]\n"
   ]
  },
  {
   "cell_type": "code",
   "execution_count": 157,
   "metadata": {
    "ExecuteTime": {
     "end_time": "2019-05-19T15:24:41.040226Z",
     "start_time": "2019-05-19T15:24:41.033583Z"
    }
   },
   "outputs": [
    {
     "data": {
      "text/plain": [
       "Counter({1: 492, 0: 492})"
      ]
     },
     "execution_count": 157,
     "metadata": {},
     "output_type": "execute_result"
    }
   ],
   "source": [
    "Counter(y_wo)"
   ]
  },
  {
   "cell_type": "code",
   "execution_count": 158,
   "metadata": {
    "ExecuteTime": {
     "end_time": "2019-05-19T15:24:53.505911Z",
     "start_time": "2019-05-19T15:24:42.080122Z"
    }
   },
   "outputs": [
    {
     "data": {
      "text/plain": [
       "LocalOutlierFactor(algorithm='auto', contamination=0.002, leaf_size=30,\n",
       "          metric='minkowski', metric_params=None, n_jobs=None,\n",
       "          n_neighbors=30, novelty=True, p=2)"
      ]
     },
     "execution_count": 158,
     "metadata": {},
     "output_type": "execute_result"
    }
   ],
   "source": [
    "# Fitting on the set without outliers\n",
    "lof_2 = LocalOutlierFactor(n_neighbors=30, novelty=True, contamination=0.002)\n",
    "lof_2.fit(X_no, y_no)"
   ]
  },
  {
   "cell_type": "code",
   "execution_count": 159,
   "metadata": {
    "ExecuteTime": {
     "end_time": "2019-05-19T15:24:55.267834Z",
     "start_time": "2019-05-19T15:24:54.557279Z"
    }
   },
   "outputs": [],
   "source": [
    "# Predicting o the subset with outliers\n",
    "y_pred_LOF_2 = lof_2.predict(X_wo)"
   ]
  },
  {
   "cell_type": "code",
   "execution_count": 160,
   "metadata": {
    "ExecuteTime": {
     "end_time": "2019-05-19T15:24:56.273461Z",
     "start_time": "2019-05-19T15:24:56.266466Z"
    }
   },
   "outputs": [
    {
     "data": {
      "text/plain": [
       "Counter({-1: 307, 1: 677})"
      ]
     },
     "execution_count": 160,
     "metadata": {},
     "output_type": "execute_result"
    }
   ],
   "source": [
    "Counter(y_pred_LOF_2)"
   ]
  },
  {
   "cell_type": "code",
   "execution_count": 161,
   "metadata": {
    "ExecuteTime": {
     "end_time": "2019-05-19T15:25:00.070350Z",
     "start_time": "2019-05-19T15:25:00.065857Z"
    }
   },
   "outputs": [],
   "source": [
    "y_pred_LOF_2 = np.where(np.where(y_pred_LOF_2==1, 0, y_pred_LOF_2)==-1, 1, np.where(y_pred_LOF_2==1, 0, y_pred_LOF_2))\n"
   ]
  },
  {
   "cell_type": "code",
   "execution_count": 162,
   "metadata": {
    "ExecuteTime": {
     "end_time": "2019-05-19T15:25:01.171049Z",
     "start_time": "2019-05-19T15:25:01.164615Z"
    }
   },
   "outputs": [
    {
     "data": {
      "text/plain": [
       "Counter({1: 307, 0: 677})"
      ]
     },
     "execution_count": 162,
     "metadata": {},
     "output_type": "execute_result"
    }
   ],
   "source": [
    "Counter(y_pred_LOF_2)"
   ]
  },
  {
   "cell_type": "code",
   "execution_count": 163,
   "metadata": {
    "ExecuteTime": {
     "end_time": "2019-05-19T15:25:02.213135Z",
     "start_time": "2019-05-19T15:25:02.202870Z"
    },
    "scrolled": true
   },
   "outputs": [
    {
     "name": "stdout",
     "output_type": "stream",
     "text": [
      "              precision    recall  f1-score   support\n",
      "\n",
      "           0       0.73      1.00      0.84       492\n",
      "           1       1.00      0.62      0.77       492\n",
      "\n",
      "   micro avg       0.81      0.81      0.81       984\n",
      "   macro avg       0.86      0.81      0.81       984\n",
      "weighted avg       0.86      0.81      0.81       984\n",
      "\n"
     ]
    }
   ],
   "source": [
    "print(classification_report(y_wo, y_pred_LOF_2))"
   ]
  },
  {
   "cell_type": "markdown",
   "metadata": {},
   "source": [
    "The model seems to perform well on my balanced test set. Let's try to generalize it on the unbalanced X_test set, which contains only 0.2% of outliers."
   ]
  },
  {
   "cell_type": "code",
   "execution_count": 164,
   "metadata": {
    "ExecuteTime": {
     "end_time": "2019-05-19T15:25:24.011367Z",
     "start_time": "2019-05-19T15:25:11.302041Z"
    }
   },
   "outputs": [],
   "source": [
    "y_pred_LOF = lof_2.predict(X_test)"
   ]
  },
  {
   "cell_type": "code",
   "execution_count": 165,
   "metadata": {
    "ExecuteTime": {
     "end_time": "2019-05-19T15:25:25.098736Z",
     "start_time": "2019-05-19T15:25:25.076020Z"
    }
   },
   "outputs": [
    {
     "data": {
      "text/plain": [
       "Counter({1: 55712, -1: 1250})"
      ]
     },
     "execution_count": 165,
     "metadata": {},
     "output_type": "execute_result"
    }
   ],
   "source": [
    "Counter(y_pred_LOF)"
   ]
  },
  {
   "cell_type": "code",
   "execution_count": 166,
   "metadata": {
    "ExecuteTime": {
     "end_time": "2019-05-19T15:25:26.265835Z",
     "start_time": "2019-05-19T15:25:26.259578Z"
    }
   },
   "outputs": [],
   "source": [
    "y_pred_LOF = np.where(np.where(y_pred_LOF==1, 0, y_pred_LOF)==-1, 1, np.where(y_pred_LOF==1, 0, y_pred_LOF))\n"
   ]
  },
  {
   "cell_type": "code",
   "execution_count": 167,
   "metadata": {
    "ExecuteTime": {
     "end_time": "2019-05-19T15:25:30.788157Z",
     "start_time": "2019-05-19T15:25:30.768084Z"
    }
   },
   "outputs": [
    {
     "data": {
      "text/plain": [
       "Counter({0: 55712, 1: 1250})"
      ]
     },
     "execution_count": 167,
     "metadata": {},
     "output_type": "execute_result"
    }
   ],
   "source": [
    "Counter(y_pred_LOF)"
   ]
  },
  {
   "cell_type": "code",
   "execution_count": 168,
   "metadata": {
    "ExecuteTime": {
     "end_time": "2019-05-19T15:25:31.932005Z",
     "start_time": "2019-05-19T15:25:31.872337Z"
    }
   },
   "outputs": [
    {
     "name": "stdout",
     "output_type": "stream",
     "text": [
      "              precision    recall  f1-score   support\n",
      "\n",
      "           0       1.00      0.98      0.99     56861\n",
      "           1       0.06      0.77      0.12       101\n",
      "\n",
      "   micro avg       0.98      0.98      0.98     56962\n",
      "   macro avg       0.53      0.88      0.55     56962\n",
      "weighted avg       1.00      0.98      0.99     56962\n",
      "\n"
     ]
    }
   ],
   "source": [
    "print(classification_report(y_test, y_pred_LOF))"
   ]
  },
  {
   "cell_type": "markdown",
   "metadata": {},
   "source": [
    "The model does not seem to generalize very well. It shows a good recall score but an extremely poor precision score."
   ]
  }
 ],
 "metadata": {
  "kernelspec": {
   "display_name": "Python 3",
   "language": "python",
   "name": "python3"
  },
  "language_info": {
   "codemirror_mode": {
    "name": "ipython",
    "version": 3
   },
   "file_extension": ".py",
   "mimetype": "text/x-python",
   "name": "python",
   "nbconvert_exporter": "python",
   "pygments_lexer": "ipython3",
   "version": "3.7.1"
  },
  "toc": {
   "base_numbering": 1,
   "nav_menu": {},
   "number_sections": true,
   "sideBar": true,
   "skip_h1_title": false,
   "title_cell": "Table of Contents",
   "title_sidebar": "Contents",
   "toc_cell": false,
   "toc_position": {},
   "toc_section_display": true,
   "toc_window_display": true
  },
  "varInspector": {
   "cols": {
    "lenName": 16,
    "lenType": 16,
    "lenVar": 40
   },
   "kernels_config": {
    "python": {
     "delete_cmd_postfix": "",
     "delete_cmd_prefix": "del ",
     "library": "var_list.py",
     "varRefreshCmd": "print(var_dic_list())"
    },
    "r": {
     "delete_cmd_postfix": ") ",
     "delete_cmd_prefix": "rm(",
     "library": "var_list.r",
     "varRefreshCmd": "cat(var_dic_list()) "
    }
   },
   "types_to_exclude": [
    "module",
    "function",
    "builtin_function_or_method",
    "instance",
    "_Feature"
   ],
   "window_display": false
  }
 },
 "nbformat": 4,
 "nbformat_minor": 2
}
